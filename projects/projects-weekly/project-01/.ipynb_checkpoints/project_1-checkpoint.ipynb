{
 "cells": [
  {
   "cell_type": "markdown",
   "metadata": {},
   "source": [
    "# Project 1\n",
    "\n",
    "## Step 1: Open the `sat_scores.csv` file. Investigate the data, and answer the questions below.\n"
   ]
  },
  {
   "cell_type": "markdown",
   "metadata": {},
   "source": [
    "##### 1. What does the data describe?"
   ]
  },
  {
   "cell_type": "markdown",
   "metadata": {},
   "source": [
    "The data describes the SAT participation rate, the mean math scores, and the mean verbal scores for each state and the District of Columbia for the year 2001."
   ]
  },
  {
   "cell_type": "markdown",
   "metadata": {},
   "source": [
    "##### 2. Does the data look complete? Are there any obvious issues with the observations?"
   ]
  },
  {
   "cell_type": "markdown",
   "metadata": {},
   "source": [
    "The data looks complete.  I did not notice any obvious issues."
   ]
  },
  {
   "cell_type": "markdown",
   "metadata": {},
   "source": [
    "##### 3. Create a data dictionary for the dataset."
   ]
  },
  {
   "cell_type": "markdown",
   "metadata": {
    "collapsed": true
   },
   "source": [
    "State Column: Provides the state abbreviation and DC for District of Columbia.  It is a string type.\n",
    "Rate Column: Provides the participation rate percent of eligible participants in each state in 2001.  It is an integer type.\n",
    "Verbal Column: Provides the mean verbal SAT score for everyone who took the SAT in 2001.  It is an integer type.\n",
    "Math Column: Provides the mean math SAT score for everyone who took the SAT in 2001.  It is an integer type.###"
   ]
  },
  {
   "cell_type": "markdown",
   "metadata": {},
   "source": [
    "## Step 2: Load the data."
   ]
  },
  {
   "cell_type": "markdown",
   "metadata": {},
   "source": [
    "##### 4. Load the data into a list of lists"
   ]
  },
  {
   "cell_type": "code",
   "execution_count": 1,
   "metadata": {
    "collapsed": false
   },
   "outputs": [],
   "source": [
    "#Opens the sat_scores.csv file and converts the data into a list of lists where each list contains all the data pertaining to one state\n",
    "\n",
    "with open('../assets/sat_scores.csv') as f:\n",
    "    sat_list = [x.strip().split(',') for x in f]\n"
   ]
  },
  {
   "cell_type": "markdown",
   "metadata": {},
   "source": [
    "##### 5. Print the data"
   ]
  },
  {
   "cell_type": "code",
   "execution_count": 2,
   "metadata": {
    "collapsed": false
   },
   "outputs": [
    {
     "name": "stdout",
     "output_type": "stream",
     "text": [
      "[['State', 'Rate', 'Verbal', 'Math'], ['CT', '82', '509', '510'], ['NJ', '81', '499', '513'], ['MA', '79', '511', '515'], ['NY', '77', '495', '505'], ['NH', '72', '520', '516'], ['RI', '71', '501', '499'], ['PA', '71', '500', '499'], ['VT', '69', '511', '506'], ['ME', '69', '506', '500'], ['VA', '68', '510', '501'], ['DE', '67', '501', '499'], ['MD', '65', '508', '510'], ['NC', '65', '493', '499'], ['GA', '63', '491', '489'], ['IN', '60', '499', '501'], ['SC', '57', '486', '488'], ['DC', '56', '482', '474'], ['OR', '55', '526', '526'], ['FL', '54', '498', '499'], ['WA', '53', '527', '527'], ['TX', '53', '493', '499'], ['HI', '52', '485', '515'], ['AK', '51', '514', '510'], ['CA', '51', '498', '517'], ['AZ', '34', '523', '525'], ['NV', '33', '509', '515'], ['CO', '31', '539', '542'], ['OH', '26', '534', '439'], ['MT', '23', '539', '539'], ['WV', '18', '527', '512'], ['ID', '17', '543', '542'], ['TN', '13', '562', '553'], ['NM', '13', '551', '542'], ['IL', '12', '576', '589'], ['KY', '12', '550', '550'], ['WY', '11', '547', '545'], ['MI', '11', '561', '572'], ['MN', '9', '580', '589'], ['KS', '9', '577', '580'], ['AL', '9', '559', '554'], ['NE', '8', '562', '568'], ['OK', '8', '567', '561'], ['MO', '8', '577', '577'], ['LA', '7', '564', '562'], ['WI', '6', '584', '596'], ['AR', '6', '562', '550'], ['UT', '5', '575', '570'], ['IA', '5', '593', '603'], ['SD', '4', '577', '582'], ['ND', '4', '592', '599'], ['MS', '4', '566', '551'], ['All', '45', '506', '514']]\n"
     ]
    }
   ],
   "source": [
    "# prints sat_list\n",
    "print (sat_list)\n"
   ]
  },
  {
   "cell_type": "markdown",
   "metadata": {
    "collapsed": true
   },
   "source": [
    "##### 6. Extract a list of the labels from the data, and remove them from the data."
   ]
  },
  {
   "cell_type": "code",
   "execution_count": 3,
   "metadata": {
    "collapsed": false
   },
   "outputs": [],
   "source": [
    "# removes and captures the first item in sat_list, which are the labels\n",
    "labels = sat_list.pop(0)\n"
   ]
  },
  {
   "cell_type": "markdown",
   "metadata": {},
   "source": [
    "7. Create a list of State names extracted from the data. (Hint: use the list of labels to index on the State column)"
   ]
  },
  {
   "cell_type": "code",
   "execution_count": 4,
   "metadata": {
    "collapsed": false
   },
   "outputs": [],
   "source": [
    "# creates a list of state names\n",
    "states = [state[labels.index('State')] for state in sat_list if state[labels.index('State')] != 'All']"
   ]
  },
  {
   "cell_type": "markdown",
   "metadata": {},
   "source": [
    "8. Print the types of each column"
   ]
  },
  {
   "cell_type": "code",
   "execution_count": 5,
   "metadata": {
    "collapsed": false
   },
   "outputs": [
    {
     "name": "stdout",
     "output_type": "stream",
     "text": [
      "State <type 'str'>\n",
      "Rate <type 'str'>\n",
      "Verbal <type 'str'>\n",
      "Math <type 'str'>\n"
     ]
    }
   ],
   "source": [
    "# prints the type for each column\n",
    "for l in labels:\n",
    "    print(l + \" \" + str(type(l)))\n"
   ]
  },
  {
   "cell_type": "markdown",
   "metadata": {},
   "source": [
    "##### 9. Do any types need to be reassigned? If so, go ahead and do it."
   ]
  },
  {
   "cell_type": "code",
   "execution_count": 6,
   "metadata": {
    "collapsed": false,
    "scrolled": true
   },
   "outputs": [
    {
     "data": {
      "text/plain": [
       "[['CT', 82, 509, 510],\n",
       " ['NJ', 81, 499, 513],\n",
       " ['MA', 79, 511, 515],\n",
       " ['NY', 77, 495, 505],\n",
       " ['NH', 72, 520, 516],\n",
       " ['RI', 71, 501, 499],\n",
       " ['PA', 71, 500, 499],\n",
       " ['VT', 69, 511, 506],\n",
       " ['ME', 69, 506, 500],\n",
       " ['VA', 68, 510, 501],\n",
       " ['DE', 67, 501, 499],\n",
       " ['MD', 65, 508, 510],\n",
       " ['NC', 65, 493, 499],\n",
       " ['GA', 63, 491, 489],\n",
       " ['IN', 60, 499, 501],\n",
       " ['SC', 57, 486, 488],\n",
       " ['DC', 56, 482, 474],\n",
       " ['OR', 55, 526, 526],\n",
       " ['FL', 54, 498, 499],\n",
       " ['WA', 53, 527, 527],\n",
       " ['TX', 53, 493, 499],\n",
       " ['HI', 52, 485, 515],\n",
       " ['AK', 51, 514, 510],\n",
       " ['CA', 51, 498, 517],\n",
       " ['AZ', 34, 523, 525],\n",
       " ['NV', 33, 509, 515],\n",
       " ['CO', 31, 539, 542],\n",
       " ['OH', 26, 534, 439],\n",
       " ['MT', 23, 539, 539],\n",
       " ['WV', 18, 527, 512],\n",
       " ['ID', 17, 543, 542],\n",
       " ['TN', 13, 562, 553],\n",
       " ['NM', 13, 551, 542],\n",
       " ['IL', 12, 576, 589],\n",
       " ['KY', 12, 550, 550],\n",
       " ['WY', 11, 547, 545],\n",
       " ['MI', 11, 561, 572],\n",
       " ['MN', 9, 580, 589],\n",
       " ['KS', 9, 577, 580],\n",
       " ['AL', 9, 559, 554],\n",
       " ['NE', 8, 562, 568],\n",
       " ['OK', 8, 567, 561],\n",
       " ['MO', 8, 577, 577],\n",
       " ['LA', 7, 564, 562],\n",
       " ['WI', 6, 584, 596],\n",
       " ['AR', 6, 562, 550],\n",
       " ['UT', 5, 575, 570],\n",
       " ['IA', 5, 593, 603],\n",
       " ['SD', 4, 577, 582],\n",
       " ['ND', 4, 592, 599],\n",
       " ['MS', 4, 566, 551],\n",
       " ['All', 45, 506, 514]]"
      ]
     },
     "execution_count": 6,
     "metadata": {},
     "output_type": "execute_result"
    }
   ],
   "source": [
    "#this function changes the type of rate, verbal, and math data into an int for the sat_scores.csv file format.\n",
    "def change_type(lists):\n",
    "    for x in lists:\n",
    "        for y in x:\n",
    "            if x.index(y) == 1:\n",
    "                lists[lists.index(x)][1] = int(y)\n",
    "            elif x.index(y) == 2:\n",
    "                lists[lists.index(x)][2] = int(y)\n",
    "            elif x.index(y) == 3:\n",
    "                lists[lists.index(x)][3] = int(y)\n",
    "    return lists\n",
    "\n",
    "change_type(sat_list)\n",
    "       "
   ]
  },
  {
   "cell_type": "markdown",
   "metadata": {},
   "source": [
    "##### 10. Create a dictionary for each column mapping the State to its respective value for that column. "
   ]
  },
  {
   "cell_type": "code",
   "execution_count": 7,
   "metadata": {
    "collapsed": false
   },
   "outputs": [],
   "source": [
    "#creates a dictionary for each with state as a key and the respective column as the value.\n",
    "state_rate_col = {x[0]: x[1] for x in sat_list if x[0] != 'All'}\n",
    "state_verbal_col = {x[0]: x[2] for x in sat_list if x[0] != 'All'}\n",
    "state_math_col = {x[0]: x[3] for x in sat_list if x[0] != 'All'}\n"
   ]
  },
  {
   "cell_type": "markdown",
   "metadata": {},
   "source": [
    "##### 11. Create a dictionary with the values for each of the numeric columns"
   ]
  },
  {
   "cell_type": "code",
   "execution_count": 8,
   "metadata": {
    "collapsed": false
   },
   "outputs": [],
   "source": [
    "#creates a dictionary with the label as the key and a list of scores as the value\n",
    "scores_dict = {labels[x]: [y[x] for y in sat_list if y[0] != 'All'] for x in range(1,len(labels))}\n",
    "\n"
   ]
  },
  {
   "cell_type": "markdown",
   "metadata": {},
   "source": [
    "## Step 3: Describe the data"
   ]
  },
  {
   "cell_type": "markdown",
   "metadata": {},
   "source": [
    "##### 12. Print the min and max of each column"
   ]
  },
  {
   "cell_type": "code",
   "execution_count": 9,
   "metadata": {
    "collapsed": false
   },
   "outputs": [
    {
     "name": "stdout",
     "output_type": "stream",
     "text": [
      "Rate Max: 82\n",
      "Rate Min: 4\n",
      "Math Max: 603\n",
      "Math Min: 439\n",
      "Verbal Max: 593\n",
      "Verbal Min: 482\n"
     ]
    }
   ],
   "source": [
    "# prints the max and min of every list in each key in scores_dict\n",
    "for k in scores_dict.keys():\n",
    "    print (k + \" Max: \" + str(max(scores_dict.get(k))))\n",
    "    print (k + \" Min: \" + str(min(scores_dict.get(k))))"
   ]
  },
  {
   "cell_type": "markdown",
   "metadata": {},
   "source": [
    "##### 13. Write a function using only list comprehensions, no loops, to compute Standard Deviation. Print the Standard Deviation of each numeric column."
   ]
  },
  {
   "cell_type": "code",
   "execution_count": 10,
   "metadata": {
    "collapsed": false
   },
   "outputs": [
    {
     "name": "stdout",
     "output_type": "stream",
     "text": [
      "Rate standard deviation: 27.276363394\n",
      "Verbal standard deviation: 33.0302891298\n",
      "Math standard deviation: 35.9304884464\n"
     ]
    },
    {
     "data": {
      "text/plain": [
       "35.93048844644336"
      ]
     },
     "execution_count": 10,
     "metadata": {},
     "output_type": "execute_result"
    }
   ],
   "source": [
    "from math import sqrt\n",
    "#calculates the standard deviation of an input dictionary for the key chosen\n",
    "def std_dev(mydict,dickey):\n",
    "    numlist = mydict.get(dickey)\n",
    "    mean = sum(numlist)/len(numlist)\n",
    "    sd = sqrt(sum([(n - mean) ** 2 for n in numlist])/len(numlist))\n",
    "    print (dickey + \" standard deviation: \" + str(sd))\n",
    "    return sd\n",
    "    \n",
    "std_dev(scores_dict,'Rate')\n",
    "std_dev(scores_dict,'Verbal')\n",
    "std_dev(scores_dict,'Math')"
   ]
  },
  {
   "cell_type": "markdown",
   "metadata": {},
   "source": [
    "## Step 4: Visualize the data"
   ]
  },
  {
   "cell_type": "markdown",
   "metadata": {
    "collapsed": true
   },
   "source": [
    "##### 14. Using MatPlotLib and PyPlot, plot the distribution of the Rate using histograms."
   ]
  },
  {
   "cell_type": "code",
   "execution_count": null,
   "metadata": {
    "collapsed": false
   },
   "outputs": [],
   "source": []
  },
  {
   "cell_type": "markdown",
   "metadata": {},
   "source": [
    "##### 15. Plot the Math distribution"
   ]
  },
  {
   "cell_type": "code",
   "execution_count": null,
   "metadata": {
    "collapsed": false
   },
   "outputs": [],
   "source": []
  },
  {
   "cell_type": "markdown",
   "metadata": {},
   "source": [
    "##### 16. Plot the Verbal distribution"
   ]
  },
  {
   "cell_type": "code",
   "execution_count": null,
   "metadata": {
    "collapsed": false
   },
   "outputs": [],
   "source": []
  },
  {
   "cell_type": "markdown",
   "metadata": {},
   "source": [
    "##### 17. What is the typical assumption for data distribution?"
   ]
  },
  {
   "cell_type": "code",
   "execution_count": 11,
   "metadata": {
    "collapsed": false
   },
   "outputs": [],
   "source": [
    "#normal distribution"
   ]
  },
  {
   "cell_type": "markdown",
   "metadata": {},
   "source": [
    "##### 18. Does that distribution hold true for our data?"
   ]
  },
  {
   "cell_type": "code",
   "execution_count": null,
   "metadata": {
    "collapsed": false
   },
   "outputs": [],
   "source": []
  },
  {
   "cell_type": "markdown",
   "metadata": {},
   "source": [
    "##### 19. Plot some scatterplots. **BONUS**: Use a PyPlot `figure` to present multiple plots at once."
   ]
  },
  {
   "cell_type": "code",
   "execution_count": 12,
   "metadata": {
    "collapsed": false
   },
   "outputs": [],
   "source": [
    "# math/verbal/rate 3 charts"
   ]
  },
  {
   "cell_type": "markdown",
   "metadata": {},
   "source": [
    "##### 20. Are there any interesting relationships to note?"
   ]
  },
  {
   "cell_type": "code",
   "execution_count": 13,
   "metadata": {
    "collapsed": false
   },
   "outputs": [],
   "source": [
    "# my comments"
   ]
  },
  {
   "cell_type": "markdown",
   "metadata": {},
   "source": [
    "##### 21. Create box plots for each variable. "
   ]
  },
  {
   "cell_type": "code",
   "execution_count": null,
   "metadata": {
    "collapsed": false
   },
   "outputs": [],
   "source": []
  },
  {
   "cell_type": "markdown",
   "metadata": {},
   "source": [
    "##### BONUS: Using Tableau, create a heat map for each variable using a map of the US. "
   ]
  },
  {
   "cell_type": "code",
   "execution_count": 14,
   "metadata": {
    "collapsed": true
   },
   "outputs": [],
   "source": [
    "#presentation in tableau mode or insert into file. \n",
    "#do i need to remove the all row from the data?\n",
    "#headings\n",
    "#labels?\n",
    "# zoom on map, drag\n",
    "#what is standard for commenting while coding?\n",
    "#save tableua as image, export as image,  use markdown to embed image in this cell"
   ]
  }
 ],
 "metadata": {
  "anaconda-cloud": {},
  "kernelspec": {
   "display_name": "Python [default]",
   "language": "python",
   "name": "python2"
  },
  "language_info": {
   "codemirror_mode": {
    "name": "ipython",
    "version": 2
   },
   "file_extension": ".py",
   "mimetype": "text/x-python",
   "name": "python",
   "nbconvert_exporter": "python",
   "pygments_lexer": "ipython2",
   "version": "2.7.12"
  }
 },
 "nbformat": 4,
 "nbformat_minor": 0
}
