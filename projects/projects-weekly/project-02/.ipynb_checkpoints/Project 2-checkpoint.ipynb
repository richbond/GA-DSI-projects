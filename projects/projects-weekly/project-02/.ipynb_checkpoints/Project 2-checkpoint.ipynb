{
 "cells": [
  {
   "cell_type": "code",
   "execution_count": 52,
   "metadata": {
    "collapsed": false
   },
   "outputs": [
    {
     "data": {
      "text/plain": [
       "{1: [], 2: []}"
      ]
     },
     "execution_count": 52,
     "metadata": {},
     "output_type": "execute_result"
    }
   ],
   "source": [
    "\n",
    "StoreList = []\n",
    "Inventory = {}\n",
    "PH = {}\n",
    "\n",
    "class OSM:\n",
    "    \n",
    "    storeidcounter = 1\n",
    "    StoreType = {'Clothes' : ['Mens','Womens','Children'],'Apple' : ['iPhone','iPad','MacBookPro'], \\\n",
    "                'Breakfast': ['Bacon','Egg', 'Cheese'], 'Music' : ['CD\\'s','Tapes','8Tracks']}\n",
    "\n",
    "    def __init__(self, name, storetype):\n",
    "        self.name = name\n",
    "        self.storetype = storetype\n",
    "        self.store_id = OSM.storeidcounter\n",
    "        OSM.storeidcounter += 1\n",
    "        StoreList.append([self.store_id, self.name, self.storetype])\n",
    "        self.custcounter = 1\n",
    "        self.custdict = {}\n",
    "        self.invdict = {}\n",
    "\n",
    "    \n",
    "    def addcust(self,name):\n",
    "        self.custid = self.custcounter\n",
    "        self.custcounter += 1\n",
    "        self.name = name\n",
    "        self.custdict.update({self.custid : []})\n",
    "        \n",
    "    def addinv(self,itemtype,item,qty):\n",
    "        self.itemtype = itemtype\n",
    "        self.item = item\n",
    "    \n",
    "    \n",
    "        \n",
    "        \n",
    "\n",
    "Music = OSM('Music','CD\\'s')\n",
    "\n",
    "Music.addcust(\"Brian\")\n",
    "Music.addcust(\"John\")\n",
    "Music.custdict\n",
    "        \n"
   ]
  },
  {
   "cell_type": "code",
   "execution_count": 44,
   "metadata": {
    "collapsed": false
   },
   "outputs": [
    {
     "data": {
      "text/plain": [
       "King of Hearts"
      ]
     },
     "execution_count": 44,
     "metadata": {},
     "output_type": "execute_result"
    }
   ],
   "source": [
    "class Card:\n",
    "    suits = [\"Clubs\", \"Diamonds\", \"Hearts\", \"Spades\"]\n",
    "    ranks = [\"narf\", \"Ace\", \"2\", \"3\", \"4\", \"5\", \"6\", \"7\",\n",
    "             \"8\", \"9\", \"10\", \"Jack\", \"Queen\", \"King\"]\n",
    "\n",
    "    def __init__(self, suit=0, rank=0):\n",
    "        self.suit = suit\n",
    "        self.rank = rank\n",
    "\n",
    "    def __repr__(self):\n",
    "        return (self.ranks[self.rank] + \" of \" + self.suits[self.suit]) \n",
    "\n",
    "KH = Card(2,13)\n",
    "KH\n"
   ]
  },
  {
   "cell_type": "code",
   "execution_count": null,
   "metadata": {
    "collapsed": true
   },
   "outputs": [],
   "source": [
    "       class Resource( object ):\n",
    "    class_counter= 0\n",
    "    def __init__(self, name, position, type, active):\n",
    "        self.name = name\n",
    "        self.position = position\n",
    "        self.type = type\n",
    "        self.active = active\n",
    "        self.id= Resource.class_counter\n",
    "        Resource.class_counter += 1\n",
    "\n",
    " \n",
    "Point1 = Point(2,1)\n",
    "Point2 = Point(-1,3)\n",
    "NewPoint1 = Point1.add(Point2) #First way to call a method\n",
    "NewPoint2 = Point.sub(Point1, Point2) #Second way to call a method\n",
    "NewPoint1\n",
    "\n",
    "class Point:\n",
    "    def __init__(self, x_value, y_value):\n",
    "        #The __init__ function is called when we create an Object of class Point.\n",
    "        #Below are the attributes of Class Point defined\n",
    "        self.x = x_value\n",
    "        self.y = y_value\n",
    "        self.dist = self.__dist__()\n",
    "        \n",
    "    def __dist__(self):\n",
    "        #This is a private method that calculates the distance from the origin\n",
    "        return math.sqrt(pow(self.x, 2) + pow(self.y, 2))\n",
    "        \n",
    "    def add(self, otherPoint):\n",
    "        #This is a public method that defines addition of two points\n",
    "        NewX = self.x + otherPoint.x\n",
    "        NewY = self.y + otherPoint.y\n",
    "        NewPoint = Point(NewX, NewY)\n",
    "        return NewPoint\n",
    "        \n",
    "    def sub(self, otherPoint):\n",
    "        #This is a public method that defines substraction of two points\n",
    "        NewX = self.x - otherPoint.x\n",
    "        NewY = self.y - otherPoint.y\n",
    "        NewPoint = Point(NewX, NewY)\n",
    "        return NewPoint\n",
    "    def __repr__(self):\n",
    "        return 'Coordinates: ({0},{1}) Distance: {2:.2f}'.format(self.x,self.y, self.dist"
   ]
  }
 ],
 "metadata": {
  "anaconda-cloud": {},
  "kernelspec": {
   "display_name": "Python [default]",
   "language": "python",
   "name": "python2"
  },
  "language_info": {
   "codemirror_mode": {
    "name": "ipython",
    "version": 2
   },
   "file_extension": ".py",
   "mimetype": "text/x-python",
   "name": "python",
   "nbconvert_exporter": "python",
   "pygments_lexer": "ipython2",
   "version": "2.7.12"
  }
 },
 "nbformat": 4,
 "nbformat_minor": 1
}
