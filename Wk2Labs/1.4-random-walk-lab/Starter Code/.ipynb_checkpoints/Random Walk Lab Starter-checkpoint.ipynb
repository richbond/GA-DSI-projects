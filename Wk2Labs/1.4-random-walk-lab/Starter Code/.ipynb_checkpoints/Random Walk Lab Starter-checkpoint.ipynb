{
 "cells": [
  {
   "cell_type": "markdown",
   "metadata": {},
   "source": [
    "***Exercise Random Wlak***\n",
    "\n",
    "1. Write a function RandomWalk that takes two integers L and R and which returns an array with R simulated random walks starting at position 0 of length L. \n",
    "2. Plot the simulated RandomWalk (Tip: lets say result is the array that was returned by RandomWalk. You will need to transpose the array using array.T when plotting the walks)\n",
    "3. Plot the histogram of the number of final positions. (Extra: What distribution does that histogram represent? Can you guess the variance and the mean?)\n",
    "4. Wite a function called DoubleSlit which takes an array of RandomWalks and 5 integers P, L1, U!, L2, and U2. The function DoubleSplit removes all path from RandomWalk that do not pass through two slits defined by (L1, U1) and (L2, U2) at position P.\n",
    "5. Plot the simulated DoubleSplit for various parameters.\n",
    "6. Plot the histogram of the number of final positions. What can you say about the form of the distribution?"
   ]
  },
  {
   "cell_type": "code",
   "execution_count": null,
   "metadata": {
    "collapsed": true
   },
   "outputs": [],
   "source": []
  }
 ],
 "metadata": {
  "anaconda-cloud": {},
  "kernelspec": {
   "display_name": "Python [default]",
   "language": "python",
   "name": "python2"
  },
  "language_info": {
   "codemirror_mode": {
    "name": "ipython",
    "version": 2
   },
   "file_extension": ".py",
   "mimetype": "text/x-python",
   "name": "python",
   "nbconvert_exporter": "python",
   "pygments_lexer": "ipython2",
   "version": "2.7.12"
  }
 },
 "nbformat": 4,
 "nbformat_minor": 1
}
