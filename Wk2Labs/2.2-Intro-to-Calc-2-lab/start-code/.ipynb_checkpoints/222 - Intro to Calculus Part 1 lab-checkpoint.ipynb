{
 "cells": [
  {
   "cell_type": "markdown",
   "metadata": {},
   "source": [
    "*** Exercise 1: ***\n",
    "Calculate the following expressions\n",
    "1. $$\\int_{[-5,5)}d\\lambda(x) \\, Exp(0.5*(x-2)^2)$$\n",
    "2. $$\\int_{\\mathbb{R}}d\\lambda(x) \\, x^2 * Exp(-0.8*(x+2)^2) = \\int_{-\\infty}^{\\infty} x^2 * Exp(-0.8*(x+2)^2) $$ Tip: numpy has an object called numpy.infinity.\n",
    "3. $$\\int_{-5}^{5}d\\lambda(y)\\int_{-5}^{y} d\\lambda(x) F_2(x)*F_1(x)$$\n",
    "\n",
    "**$\\lambda$ is the measure that measures the length of an intervall as defined in the slides.**"
   ]
  },
  {
   "cell_type": "code",
   "execution_count": 2,
   "metadata": {
    "collapsed": false
   },
   "outputs": [
    {
     "data": {
      "text/plain": [
       "(34.196796923070316, 3.796607131242337e-13)"
      ]
     },
     "execution_count": 2,
     "metadata": {},
     "output_type": "execute_result"
    }
   ],
   "source": [
    "import numpy as np\n",
    "from scipy import integrate\n",
    "\n",
    "# integral quad fun here. X = np.arange(-5,5.1,.1)\n",
    "\n",
    "F1 = lambda x: np.exp(.5*((x-2)**2))\n",
    "integrate.quad(F1,-1,1)\n",
    "\n",
    "\n",
    "\n"
   ]
  },
  {
   "cell_type": "code",
   "execution_count": 3,
   "metadata": {
    "collapsed": false
   },
   "outputs": [
    {
     "data": {
      "text/plain": [
       "(9.165194375713822, 2.7579672787274257e-08)"
      ]
     },
     "execution_count": 3,
     "metadata": {},
     "output_type": "execute_result"
    }
   ],
   "source": [
    "F2 = lambda x: (x**2)*(np.exp(-.8*((x+2)**2)))\n",
    "integrate.quad(F2,-np.inf, np.inf)\n",
    "\n",
    "#F3 = lambda x: F1(x)*F2(x)\n",
    "\n"
   ]
  },
  {
   "cell_type": "code",
   "execution_count": 4,
   "metadata": {
    "collapsed": false
   },
   "outputs": [
    {
     "data": {
      "text/plain": [
       "(288221053.40015465, 0.011382628410501638)"
      ]
     },
     "execution_count": 4,
     "metadata": {},
     "output_type": "execute_result"
    }
   ],
   "source": [
    "F3 = lambda x: F1(x)*F2(x)\n",
    "integrate.quad(F3,-5,5)"
   ]
  },
  {
   "cell_type": "markdown",
   "metadata": {},
   "source": [
    "**Exercise 2 (bonus):**\n",
    "\n",
    "Let's define the following measure on $\\mathbb{P}(\\mathbb{R})$ with a function $f:\\mathbb{R} \\to \\mathbb{R}^+$ (f only takes positive values)\n",
    "$$ \\mu(A) = \\int_{A} d\\lambda(x) f(x) $$ $\\lambda$ is the measure that measures the length of an intervall as defined in the slides.\n",
    "1. Prove that $\\mu$ is a measure as defined in the slides. Hint: You will have to show that the above is true for any indicator function and then you can conclude that it is true for any function.\n",
    "2. Use the indicator function trick to derive a formula for $\\int_{A} d\\mu(x) g(x)$ for any function $g: \\mathbb{R} \\to \\mathbb{R}$ with respect to the measure $\\lambda$.\n",
    "3. Define $\\mu_P(A) = \\int_{A} d\\lambda(x) Exp(-x^2)$\n",
    ">- Calculate $\\mu(\\mathbb{R})$ using the the quad function\n",
    ">- Redefine $\\mu_P$ into $P_{\\mu}$ such that it becomes a Propability Measure namely $P_{\\mu}(\\mathbb{R}) = 1$\n",
    ">- Calculate $\\int_{\\mathbb{R}} dP_{\\mu}(x) \\, x^2$"
   ]
  },
  {
   "cell_type": "code",
   "execution_count": null,
   "metadata": {
    "collapsed": true
   },
   "outputs": [],
   "source": []
  }
 ],
 "metadata": {
  "anaconda-cloud": {},
  "kernelspec": {
   "display_name": "Python [default]",
   "language": "python",
   "name": "python2"
  },
  "language_info": {
   "codemirror_mode": {
    "name": "ipython",
    "version": 2
   },
   "file_extension": ".py",
   "mimetype": "text/x-python",
   "name": "python",
   "nbconvert_exporter": "python",
   "pygments_lexer": "ipython2",
   "version": "2.7.12"
  }
 },
 "nbformat": 4,
 "nbformat_minor": 1
}
