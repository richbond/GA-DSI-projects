{
 "cells": [
  {
   "cell_type": "markdown",
   "metadata": {},
   "source": [
    "Let's consider two continous non-independet random variables $X,Y$ with the joint probability density.\n",
    "\n",
    "$$\\frac{dP_{(X,Y)}}{d\\lambda_L^2}(x,y) = \\frac{\\sqrt{15/16}}{2 \\pi}e^{-0.5((x-5)^2 + (y-3)^2 + 0.5*(x-5)(y-3))}$$ \n",
    "\n",
    "The density above could represent two stocks $X,Y$ which are correlated with each other.\n",
    "\n",
    "**Exercise 1:**\n",
    "Calculate the following expressions:\n",
    "1. The expectation value of $X$. $(E[X] = \\int dP_{(X,Y)}(x,y) x)$\n",
    "2. The expectation value of $Y$. $(E[Y] = \\int dP_{(X,Y)}(x,y) y)$\n",
    "3. Calculate $Var[X] = E[X^2] - (E[X])^2$\n",
    "4. Calculate $Var[Y] = E[Y^2] - (E[Y])^2$\n",
    "3. The Covariance which is defined by $Cov[X,Y] = \\frac{E[(X-E[X])(Y-E[Y])]}{\\sqrt{Var[X]Var[Y]}}$"
   ]
  },
  {
   "cell_type": "code",
   "execution_count": 5,
   "metadata": {
    "collapsed": false
   },
   "outputs": [
    {
     "name": "stdout",
     "output_type": "stream",
     "text": [
      "((4.999999999496438, 1.451777537833513e-08), (3.000000000441976, 1.5746013852946887e-08), 1.066666671023718, 1.0666666635841278, -0.24999999940988013)\n"
     ]
    }
   ],
   "source": [
    "import numpy as np\n",
    "from matplotlib import pyplot as plt\n",
    "from scipy.special import binom as binomial\n",
    "from scipy.special import gamma\n",
    "from scipy import integrate\n",
    "%matplotlib inline\n",
    "\n",
    "pd = lambda x,y: (np.sqrt(15./16)/(2*np.pi))*np.exp(-0.5*((x-5)**2+(y-3)**2+(0.5*(x-5)*(y-3))))\n",
    "EVX = integrate.nquad(lambda x,y: pd(x,y) * x, [[-np.infty, np.infty],[-np.infty, np.infty]])\n",
    "EVY = integrate.nquad(lambda x,y: pd(x,y) * y, [[-np.infty, np.infty],[-np.infty, np.infty]])\n",
    "\n",
    "EVX2 = integrate.nquad(lambda x,y: pd(x,y) * (x**2), [[-np.infty, np.infty],[-np.infty, np.infty]])\n",
    "EVY2 = integrate.nquad(lambda x,y: pd(x,y) * (y**2), [[-np.infty, np.infty],[-np.infty, np.infty]])\n",
    "\n",
    "VarX = EVX2[0] - EVX[0]**2\n",
    "VarY = EVY2[0] - EVY[0]**2\n",
    "\n",
    "ECov = integrate.nquad(lambda x,y: pd(x,y) * (x - EVX[0])*(y - EVY[0]), [[-np.infty, np.infty],[-np.infty, np.infty]])\n",
    "\n",
    "CovXY = (ECov[0])/(np.sqrt(VarX * VarY))\n",
    "\n",
    "print (EVX,EVY,VarX,VarY,CovXY)"
   ]
  },
  {
   "cell_type": "markdown",
   "metadata": {},
   "source": [
    "**Exercise 2:**\n",
    "    \n",
    "Calculate and plot the marginal probability denisty defined by \n",
    "$$\\frac{dP_X}{d\\lambda_L}(x) = \\int_{y = - \\infty}^{y = \\infty} d\\lambda_L(y) \\frac{dP_{(X,Y)}}{d\\lambda_L^2}(x,y)$$"
   ]
  },
  {
   "cell_type": "code",
   "execution_count": 6,
   "metadata": {
    "collapsed": false
   },
   "outputs": [
    {
     "data": {
      "image/png": "[encoded data removed]",
      "text/plain": [
       "<matplotlib.figure.Figure at 0x11118f8d0>"
      ]
     },
     "metadata": {},
     "output_type": "display_data"
    }
   ],
   "source": [
    "h = lambda x : integrate.quad(lambda y: pd(x,y), -np.infty, np.infty)[0]\n",
    "X = np.arange(-10,10, 0.01)\n",
    "HX = np.array([h(x) for x in X])\n",
    "fig = plt.figure()\n",
    "ax = fig.add_subplot(1,1,1)\n",
    "ax.plot(X,HX);"
   ]
  },
  {
   "cell_type": "markdown",
   "metadata": {},
   "source": [
    "**Excersie 3:**\n",
    "\n",
    "* Calculate the conditional probability $P(Y<3 | X>5) = \\frac{P(Y<3 \\cap X>5)}{P(X>5)}$. \n",
    "* If you use this model to model two stocks and use the result from exercise 1 how could you interpret the conditional expectation value?"
   ]
  },
  {
   "cell_type": "code",
   "execution_count": 7,
   "metadata": {
    "collapsed": false
   },
   "outputs": [
    {
     "name": "stdout",
     "output_type": "stream",
     "text": [
      "0.580430623256\n"
     ]
    }
   ],
   "source": [
    "EVA = integrate.nquad(lambda x,y: pd(x,y), [[5, np.infty],[-np.infty, 3]])\n",
    "EVB = integrate.nquad(lambda x,y: pd(x,y), [[5, np.infty],[-np.infty, np.infty]])\n",
    "\n",
    "print EVA[0]/EVB[0]"
   ]
  },
  {
   "cell_type": "code",
   "execution_count": null,
   "metadata": {
    "collapsed": true
   },
   "outputs": [],
   "source": []
  }
 ],
 "metadata": {
  "anaconda-cloud": {},
  "kernelspec": {
   "display_name": "Python [conda root]",
   "language": "python",
   "name": "conda-root-py"
  },
  "language_info": {
   "codemirror_mode": {
    "name": "ipython",
    "version": 2
   },
   "file_extension": ".py",
   "mimetype": "text/x-python",
   "name": "python",
   "nbconvert_exporter": "python",
   "pygments_lexer": "ipython2",
   "version": "2.7.12"
  }
 },
 "nbformat": 4,
 "nbformat_minor": 1
}
