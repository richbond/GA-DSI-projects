{
 "cells": [
  {
   "cell_type": "markdown",
   "metadata": {},
   "source": [
    "## Bayes Lab 3\n",
    "\n",
    "The list data contains 100 numbers drawn from a normal distribution with unknown model parameters $\\lambda$ and $\\mu$.\n",
    "\n",
    "$$\\frac{dP}{d\\lambda_L}(x) = \\sqrt{\\frac{\\lambda}{2 \\pi}} e^{\\frac{-\\lambda}{2}(x - \\mu)^2}$$\n",
    "\n",
    "**Exercise:**\n",
    "\n",
    "1. Use the quadratic loss to estimate the model parameters $\\lambda$ and $\\mu$. Plot and justify each assumption that you are making. \n",
    "2. Determine appropriate confidence intervalls. \n",
    "3. Are $\\mu$ and $\\lambda$ correlated? $COV[\\lambda,\\mu] = \\frac{E[(\\lambda - E[\\lambda])(\\mu - E[\\mu])]}{\\sqrt{Var[\\lambda]Var[\\mu]}} <> 0$\n",
    "4. Do a little bit of research and determine the estimates for $\\lambda$ and $\\mu$ under the absolut loss $L_1(\\theta,\\delta) = |"
   ]
  },
  {
   "cell_type": "code",
   "execution_count": null,
   "metadata": {
    "collapsed": false
   },
   "outputs": [],
   "source": [
    "data = [  1.68620459e+01,   1.22860390e+01,   1.42572671e+01,\n",
    "         1.14752971e+01,   1.10697986e+01,   1.16259813e+01,\n",
    "         1.28204955e+01,   1.32841907e+01,   8.91244195e+00,\n",
    "         1.49721838e+01,   1.03022139e+01,   1.47209438e+01,\n",
    "         1.19125043e+01,   1.08553119e+01,   4.64457775e+00,\n",
    "         1.19747994e+01,   1.32684660e+01,   1.14822467e+01,\n",
    "         8.93703138e+00,   1.21580146e+01,   2.67317145e+00,\n",
    "         6.96649263e+00,   7.98445237e+00,   3.59013492e+00,\n",
    "         8.64985882e+00,   5.59262784e+00,   9.30891167e+00,\n",
    "         1.32405497e+01,   1.45620358e+01,   9.56935522e+00,\n",
    "         9.52189436e+00,   1.39756263e+01,   1.82570194e+01,\n",
    "         9.81023967e+00,   1.50505281e+01,   1.71825330e+01,\n",
    "         1.50031113e+01,   1.32739666e+01,   5.82516430e+00,\n",
    "         1.09788719e+01,   1.38452615e+01,   6.53772710e+00,\n",
    "         9.36198335e+00,   1.25787750e+01,   1.70038050e+01,\n",
    "         9.97551713e+00,   9.97286445e+00,   1.73503796e+01,\n",
    "         1.09519968e+01,   8.95443490e+00,   1.08568883e+01,\n",
    "         7.67177454e+00,   9.16088790e+00,   1.09589633e+01,\n",
    "         1.04563748e+01,   1.70943984e+01,   8.82388913e+00,\n",
    "         1.40835232e+01,   1.27480329e+01,   8.48409699e+00,\n",
    "         7.95601637e+00,   1.09277835e+01,   1.66272979e+01,\n",
    "         7.19547058e+00,   1.53242086e+01,   6.29073988e+00,\n",
    "         1.25335659e+01,   9.64268750e+00,   8.78983657e+00,\n",
    "         1.22289117e+01,   9.76756105e+00,   1.31259362e+01,\n",
    "         1.31720782e+01,   8.39355478e+00,   8.21438973e+00,\n",
    "         1.83671307e+01,   1.12473511e+01,   9.51763021e+00,\n",
    "         1.36521061e+01,   1.32737361e+01,   1.24579796e+01,\n",
    "         1.26594200e+01,   1.19790087e+01,   1.20928438e+01,\n",
    "         7.61966506e+00,   1.37482389e+01,   1.63331047e+01,\n",
    "         6.86156896e+00,   1.14146867e+01,   1.30367025e+01,\n",
    "         1.28356329e+01,  -5.24528821e-03,   5.92999169e+00,\n",
    "         1.40478409e+01,   9.03228272e+00,   9.50347334e+00,\n",
    "         1.15757948e+01,   1.31938005e+01,   1.05835812e+01,\n",
    "         7.96437213e+00]"
   ]
  },
  {
   "cell_type": "code",
   "execution_count": null,
   "metadata": {
    "collapsed": false
   },
   "outputs": [],
   "source": [
    "import math\n",
    "import numpy as np\n",
    "from matplotlib import pyplot as plt\n",
    "from scipy.special import gamma\n",
    "import emcee\n",
    "%matplotlib inline\n",
    "\n",
    "a,b,c,d = 1.0,1.2,1.4,1.5\n",
    "pd = lambda l,m: np.prod([math.sqrt(l/(2*np.pi))*np.exp((-l/2)*((x-m)**2)) for x in data])\n",
    "ng = lambda l,m: (((d**c)*math.sqrt(b))/(gamma(c)*math.sqrt(2*np.pi)))\\\n",
    "                    * (m**(c-0.5))*(np.exp(-d*m))*(np.exp(-1*(b*m*((l-a)**2)))/2)\n",
    "\n",
    "post = np.vectorize(lambda l,m: pd(l,m)*ng(l,m))\n",
    "\n",
    "datasum = sum(data)\n",
    "datalen = len(data)\n",
    "dataavg = datasum/datalen"
   ]
  },
  {
   "cell_type": "code",
   "execution_count": null,
   "metadata": {
    "collapsed": true
   },
   "outputs": [],
   "source": [
    "def lnprob(l):\n",
    "    if l < 0:\n",
    "        return -np.infty\n",
    "    else:\n",
    "        return (datasum + 5-1)*np.log(l) - (datalen+1)*l #log of post goes here\n",
    "\n",
    "nwalkers = 200 \n",
    "ndim = 2\n",
    "p0 = np.random.rand(nwalkers*ndim).reshape((nwalkers,ndim))\n",
    "sampler = emcee.EnsembleSampler(nwalkers, ndim, lnprob)\n",
    "pos, prob, state = sampler.run_mcmc(p0, 1000)\n",
    "sampler.reset()\n",
    "pos, prob, state = sampler.run_mcmc(pos, 100000)\n",
    "samples = sampler.flatchain "
   ]
  },
  {
   "cell_type": "code",
   "execution_count": null,
   "metadata": {
    "collapsed": true
   },
   "outputs": [],
   "source": [
    "import pandas as pd\n",
    "data = pd.DataFrame(samples)\n",
    "data.plot(kind ='density')"
   ]
  },
  {
   "cell_type": "code",
   "execution_count": null,
   "metadata": {
    "collapsed": true
   },
   "outputs": [],
   "source": [
    "def MonteCarlo(f, samples):\n",
    "    N = len(samples)\n",
    "    return 1/float(N)*sum([f(e) for e in samples])\n",
    "\n",
    "Exp = MonteCarlo(lambda x: x, samples)\n",
    "Exp2 = MonteCarlo(lambda x: x**2, samples)\n",
    "var = np.sqrt(Exp2 - Exp**2)\n",
    "print('Expectation Value:{0}, 3sigma:{1}'.format(Exp, 3*var))"
   ]
  },
  {
   "cell_type": "code",
   "execution_count": null,
   "metadata": {
    "collapsed": true
   },
   "outputs": [],
   "source": []
  }
 ],
 "metadata": {
  "anaconda-cloud": {},
  "kernelspec": {
   "display_name": "Python [conda root]",
   "language": "python",
   "name": "conda-root-py"
  },
  "language_info": {
   "codemirror_mode": {
    "name": "ipython",
    "version": 2
   },
   "file_extension": ".py",
   "mimetype": "text/x-python",
   "name": "python",
   "nbconvert_exporter": "python",
   "pygments_lexer": "ipython2",
   "version": "2.7.12"
  }
 },
 "nbformat": 4,
 "nbformat_minor": 1
}
