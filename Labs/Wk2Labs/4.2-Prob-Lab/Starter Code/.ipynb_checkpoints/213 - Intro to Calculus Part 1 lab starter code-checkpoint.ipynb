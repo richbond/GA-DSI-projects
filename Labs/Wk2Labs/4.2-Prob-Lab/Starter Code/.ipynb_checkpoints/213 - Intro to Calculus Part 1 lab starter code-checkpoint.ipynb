{
 "cells": [
  {
   "cell_type": "markdown",
   "metadata": {},
   "source": [
    "*** Exercise 1: ***\n",
    "Plot the following functions in a 4x4 block using lambda expressions, pyplot.subplots and figure.subplots_adjust (only use the matplotlib libary). Determine the appropriate plotting range and determine the image of the Function. Label each graph appropriatly including ledgend, x-labels, y-labels and title. Which one of the functions is a one-to-one map?\n",
    "1. $F_1(x) = Exp(-0.5*(x-2)^2)$\n",
    "2. $F_2(x) = x^2 * Exp(-0.8*(x+2)^2)$\n",
    "3. $F_3(x) = F_2(x)*F_1(x)$\n",
    "4. $F_4(x) = \\frac{1}{1+Exp(-x)}$"
   ]
  },
  {
   "cell_type": "markdown",
   "metadata": {},
   "source": [
    "*** Exercise 2: ***\n",
    "Plot the following functions and their respective contour plots in a 4x4 block. Determine the appropriate plotting range and determine the image of the Function. Label each graph appropriatly including ledgend, x-labels, y-labels and title.\n",
    "1. $G_1(x,y) = Exp(-0.01*(x^3+y^3))$\n",
    "2. $G_2(x,y) = Log(x^2+2*y^2)*x^2$\n"
   ]
  }
 ],
 "metadata": {
  "anaconda-cloud": {},
  "kernelspec": {
   "display_name": "Python [default]",
   "language": "python",
   "name": "python2"
  },
  "language_info": {
   "codemirror_mode": {
    "name": "ipython",
    "version": 2
   },
   "file_extension": ".py",
   "mimetype": "text/x-python",
   "name": "python",
   "nbconvert_exporter": "python",
   "pygments_lexer": "ipython2",
   "version": "2.7.12"
  }
 },
 "nbformat": 4,
 "nbformat_minor": 1
}
