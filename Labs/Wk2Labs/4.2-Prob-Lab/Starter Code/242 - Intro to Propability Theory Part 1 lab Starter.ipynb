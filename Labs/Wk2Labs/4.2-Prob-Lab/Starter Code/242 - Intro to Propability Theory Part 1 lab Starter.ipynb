{
 "cells": [
  {
   "cell_type": "markdown",
   "metadata": {},
   "source": [
    "*** Exercise 1: ***\n",
    "\n",
    "Let's flip a coin 10 times. For each flip the propability of flipping heads is 1/2. We will denote the outcome of the nth throw by $X_n$. Thus if the event $\\omega_0 \\in \\Omega$ occures we will get the sequence $(X_1(\\omega_0), X_2(\\omega_0), ..., X_{10}(\\omega_0)) = (0,1,1,..,1)$\n",
    "\n",
    "Let's define $Y_N = \\sum_{k=1}^{N} X_k$ as the total number of heads thrown during the first N throws.\n",
    "\n",
    "Create the event space as a list of tuples and solve the following exercises: (Tip: use itertools.product from the itertools package; additionally lets say you have a function that takes 3 arguments f(x,y,z) and you have a list of arguments arg = [1,2,3] you can then use * to unpack the list.)\n",
    "\n",
    "```python\n",
    "arg = [1,2,3]\n",
    "f(*arg) # Evaluates the function at x = 1, y = 2 and z = 3 \n",
    "\n",
    "```\n",
    "1. Create a lambda expression for $P(Y_{10} = n)$ and plot the distribution (bar chart).\n",
    "2. Calculate $E[Y_{10}] = \\int_{\\omega \\in \\Omega} dP(\\omega) Y_{10}(\\omega)$\n",
    "3. Create a lambda expression for $P(Y_{10}=n|Y_k = n)$ and plot the distribution for 4 values of k (bar chart). Take a moment and think about the result.\n",
    "4. Calculate $E[Y_{10}|Y_k = k]$ as a function of k and plot the result"
   ]
  },
  {
   "cell_type": "code",
   "execution_count": 4,
   "metadata": {
    "collapsed": false
   },
   "outputs": [
    {
     "data": {
      "text/plain": [
       "[(0.0009765625, 0),\n",
       " (0.001953125, 1),\n",
       " (0.001953125, 1),\n",
       " (0.00390625, 2),\n",
       " (0.00390625, 2),\n",
       " (0.00390625, 2),\n",
       " (0.0078125, 3),\n",
       " (0.0078125, 3),\n",
       " (0.0078125, 3),\n",
       " (0.0078125, 3),\n",
       " (0.015625, 4),\n",
       " (0.015625, 4),\n",
       " (0.015625, 4),\n",
       " (0.015625, 4),\n",
       " (0.015625, 4),\n",
       " (0.03125, 5),\n",
       " (0.03125, 5),\n",
       " (0.03125, 5),\n",
       " (0.03125, 5),\n",
       " (0.03125, 5),\n",
       " (0.03125, 5),\n",
       " (0.0625, 6),\n",
       " (0.0625, 6),\n",
       " (0.0625, 6),\n",
       " (0.0625, 6),\n",
       " (0.0625, 6),\n",
       " (0.0625, 6),\n",
       " (0.0625, 6),\n",
       " (0.125, 7),\n",
       " (0.125, 7),\n",
       " (0.125, 7),\n",
       " (0.125, 7),\n",
       " (0.125, 7),\n",
       " (0.125, 7),\n",
       " (0.125, 7),\n",
       " (0.125, 7),\n",
       " (0.25, 8),\n",
       " (0.25, 8),\n",
       " (0.25, 8),\n",
       " (0.25, 8),\n",
       " (0.25, 8),\n",
       " (0.25, 8),\n",
       " (0.25, 8),\n",
       " (0.25, 8),\n",
       " (0.25, 8),\n",
       " (0.5, 9),\n",
       " (0.5, 9),\n",
       " (0.5, 9),\n",
       " (0.5, 9),\n",
       " (0.5, 9),\n",
       " (0.5, 9),\n",
       " (0.5, 9),\n",
       " (0.5, 9),\n",
       " (0.5, 9),\n",
       " (0.5, 9)]"
      ]
     },
     "execution_count": 4,
     "metadata": {},
     "output_type": "execute_result"
    },
    {
     "data": {
      "image/png": "[encoded data removed]",
      "text/plain": [
       "<matplotlib.figure.Figure at 0x110b38210>"
      ]
     },
     "metadata": {},
     "output_type": "display_data"
    }
   ],
   "source": [
    "import itertools as it\n",
    "import numpy as np\n",
    "from scipy import integrate\n",
    "from matplotlib import pyplot as plt\n",
    "%matplotlib inline\n",
    "\n",
    "#list of tuples for each of the 10 throws\n",
    "elements = [[0,1]] * 10\n",
    "events = list(it.product(*elements))\n",
    "events\n",
    "\n",
    "Prob = lambda n: (len([sum(x) for x in events if sum(x) == n]) / float(len(events)))\n",
    "\n",
    "Plots = [Prob(x) for x in range(11)]\n",
    "\n",
    "plt.bar(range(11),Plots,align = 'center')\n",
    "plt.title(\"Result Probability of 10 Coin Flips\")\n",
    "plt.xlabel(\"# of Heads\")\n",
    "plt.ylabel(\"Pct Chance\")\n",
    "plt.xlim([0,11])\n",
    "plt.grid(axis='y')\n",
    "\n",
    "N = lambda n: len([sum(x) for x in events if sum(x) == n])\n",
    "\n",
    "ExpValue = sum([Prob(n)*n for n in range(11)])\n",
    "\n",
    "FlipsLeft = lambda h,f: [(1./(2.**(10-f))) for r in range(10) if f >= h][f-h]\n",
    "FlipsLeft(7,7)\n",
    "\n",
    "#Plot3 = [FlipsLeft(x) for x in range(int(raw_input(\"Enter Number Here\")))]\n",
    "\n",
    "Test1 = [(Prob(n),f) for n in range(11) for f in range(11) if f == 10]\n",
    "Test2 = [((1./(2.**(10-f))),f) for f in range(10) for n in range(11) if f >= n ]\n",
    "Test2\n"
   ]
  },
  {
   "cell_type": "code",
   "execution_count": null,
   "metadata": {
    "collapsed": true
   },
   "outputs": [],
   "source": []
  }
 ],
 "metadata": {
  "anaconda-cloud": {},
  "kernelspec": {
   "display_name": "Python [default]",
   "language": "python",
   "name": "python2"
  },
  "language_info": {
   "codemirror_mode": {
    "name": "ipython",
    "version": 2
   },
   "file_extension": ".py",
   "mimetype": "text/x-python",
   "name": "python",
   "nbconvert_exporter": "python",
   "pygments_lexer": "ipython2",
   "version": "2.7.12"
  }
 },
 "nbformat": 4,
 "nbformat_minor": 1
}
