{
 "cells": [
  {
   "cell_type": "code",
   "execution_count": 39,
   "metadata": {
    "collapsed": false
   },
   "outputs": [],
   "source": [
    "from __future__ import division, print_function\n",
    "\n",
    "import requests\n",
    "from bs4 import BeautifulSoup\n",
    "from selenium import webdriver\n",
    "import re\n",
    "\n",
    "\n",
    "import pandas as pd\n",
    "import numpy as np\n",
    "import matplotlib.pyplot as plt\n",
    "%matplotlib inline\n",
    "\n",
    "from IPython.core.display import HTML, Image"
   ]
  },
  {
   "cell_type": "markdown",
   "metadata": {},
   "source": [
    "We're going to practice scraping a website using Beautiful Soup. Start with the [webpage for a randomly chosen movie](http://www.boxofficemojo.com/movies/?id=jurassicpark.htm) on Box Office Mojo. Use Beautiful Soup to get the movie's title, domestic total gross, distributor, and MPAA rating.\n",
    "\n",
    "Then, generalize your scraping function to pull the same data from a list of movies. [There's a table of the top 100 movies for 1993](http://www.boxofficemojo.com/yearly/chart/?yr=1993&p=.htm). You can scrape that table to generate a list of URLs. Use the code you wrote for one movie to get the same information out of each URL.\n",
    "\n",
    "![](https://img.buzzfeed.com/buzzfeed-static/static/2014-08/12/12/enhanced/webdr10/enhanced-14020-1407861668-13.jpg)\n"
   ]
  },
  {
   "cell_type": "markdown",
   "metadata": {},
   "source": [
    "# Scraping a webpage"
   ]
  },
  {
   "cell_type": "markdown",
   "metadata": {},
   "source": [
    "Here's a link to the Box Office Mojo page for Jurrasic Park. See if you can scrape the following information:\n",
    "- Title\n",
    "- Domestic Total Gross\n",
    "- Distributor\n",
    "- MPAA rating"
   ]
  },
  {
   "cell_type": "code",
   "execution_count": 2,
   "metadata": {
    "collapsed": true
   },
   "outputs": [],
   "source": [
    "url = 'http://www.boxofficemojo.com/movies/?id=jurassicpark.htm'"
   ]
  },
  {
   "cell_type": "code",
   "execution_count": 19,
   "metadata": {
    "collapsed": false
   },
   "outputs": [
    {
     "ename": "AttributeError",
     "evalue": "'Response' object has no attribute 'find'",
     "output_type": "error",
     "traceback": [
      "\u001b[0;31m---------------------------------------------------------------------------\u001b[0m",
      "\u001b[0;31mAttributeError\u001b[0m                            Traceback (most recent call last)",
      "\u001b[0;32m<ipython-input-19-410bcd3c0d0a>\u001b[0m in \u001b[0;36m<module>\u001b[0;34m()\u001b[0m\n\u001b[1;32m      1\u001b[0m \u001b[0mr\u001b[0m \u001b[0;34m=\u001b[0m \u001b[0mrequests\u001b[0m\u001b[0;34m.\u001b[0m\u001b[0mget\u001b[0m\u001b[0;34m(\u001b[0m\u001b[0murl\u001b[0m\u001b[0;34m)\u001b[0m\u001b[0;34m\u001b[0m\u001b[0m\n\u001b[0;32m----> 2\u001b[0;31m \u001b[0mitem\u001b[0m \u001b[0;34m=\u001b[0m \u001b[0mr\u001b[0m\u001b[0;34m.\u001b[0m\u001b[0mfind\u001b[0m\u001b[0;34m(\u001b[0m\u001b[0mtext\u001b[0m\u001b[0;34m=\u001b[0m\u001b[0mre\u001b[0m\u001b[0;34m.\u001b[0m\u001b[0mcompile\u001b[0m\u001b[0;34m(\u001b[0m\u001b[0;34m\"Distributor\"\u001b[0m\u001b[0;34m)\u001b[0m\u001b[0;34m)\u001b[0m\u001b[0;34m\u001b[0m\u001b[0m\n\u001b[0m\u001b[1;32m      3\u001b[0m \u001b[0mitem\u001b[0m\u001b[0;34m.\u001b[0m\u001b[0mfindNextSibling\u001b[0m\u001b[0;34m(\u001b[0m\u001b[0;34m)\u001b[0m\u001b[0;34m\u001b[0m\u001b[0m\n",
      "\u001b[0;31mAttributeError\u001b[0m: 'Response' object has no attribute 'find'"
     ]
    }
   ],
   "source": [
    "r = requests.get(url)"
   ]
  },
  {
   "cell_type": "code",
   "execution_count": 20,
   "metadata": {
    "collapsed": false
   },
   "outputs": [
    {
     "data": {
      "text/plain": [
       "<!DOCTYPE html PUBLIC \"-//W3C//DTD HTML 4.01 Transitional//EN\" \"http://www.w3.org/TR/html4/loose.dtd\">\\n<html lang=\"en\">\\n<head>\\n<meta content=\"text/html;charset=unicode-escape\" http-equiv=\"Content-type\"/>\\n<title>Jurassic Park (1993) - Box Office Mojo</title>\\n<style type=\"text/css\">\\ntable.chart-wide { width: 100%; }\\n</style>\\n<meta content=\"jurassic park, movie, film, box office, result, records, charts, revenue, opening weekend, gross, worldwide, overseas, foreign, news, reviews, articles, stories, story, analysis, revenue, release date, mpaa rating, genre, running time, length, budget, production budget, distributor, studio, universal, theatrical summary, theatrical, daily box office results, weekend box office results, weekly box office, weekly box office, release summary, international box office summary, worldwide box office summary, similar movies, image gallery, images, pictures, photos, box office mojo\" name=\"keywords\"/>\\n<meta content=\"Jurassic Park summary of box office results, charts and release information and related links.\" name=\"description\"/>\\n<link charset=\"utf-8\" href=\"/css/mojo.css?1\" media=\"screen\" rel=\"stylesheet\" title=\"no title\" type=\"text/css\"/>\\n<link charset=\"utf-8\" href=\"/css/mojo.css?1\" media=\"print\" rel=\"stylesheet\" title=\"no title\" type=\"text/css\"/>\\n<script src=\"/js/jscharts.js\" type=\"text/javascript\"></script>\\n</head>\\n<body>\\n<iframe frameborder=\"0\" height=\"1\" id=\"sis_pixel_sitewide\" marginheight=\"0\" marginwidth=\"0\" style=\"display: none;\" width=\"1\"></iframe>\\n<script>\\n    setTimeout(function(){\\n        try{\\n            //sis3.0 pixel\\n            var cacheBust = Math.random() * 10000000000000000,\\n                url_sis3 = 'http://s.amazon-adsystem.com/iu3?',\\n                params_sis3 = [\\n                    \"d=boxofficemojo.com\",\\n                    \"cb=\" + cacheBust\\n                ];\\n\\n            (document.getElementById('sis_pixel_sitewide')).src = url_sis3 + params_sis3.join('&');\\n        }catch(e){\\n            if (window.ueLogError) { \\n                window.ueLogError(e);\\n            }\\n        }\\n    }, 5);\\n</script>\\n<div id=\"container\">\\n<div>\\n<script type=\"text/javascript\">\\n    var googletag = googletag || {};\\n    googletag.cmd = googletag.cmd || [];\\n\\n    (function() {\\n        var gads = document.createElement(\"script\");\\n        gads.async = true;\\n        gads.type = \"text/javascript\";\\n\\n        var useSSL = \"https:\" == document.location.protocol;\\n        gads.src = (useSSL ? \"https:\" : \"http:\") + \"//www.googletagservices.com/tag/js/gpt.js\";\\n\\n        var node = document.getElementsByTagName(\"script\")[0];\\n        node.parentNode.insertBefore(gads, node);\\n    })();\\n</script>\\n<script type=\"text/javascript\">\\n  var _gaq = _gaq || [];\\n  _gaq.push(['_setAccount', 'UA-2831726-1']);\\n  _gaq.push(['_trackPageview']);\\n\\n  (function() {\\n    var ga = document.createElement('script'); ga.type = 'text/javascript'; ga.async = true;\\n    ga.src = ('https:' == document.location.protocol ? 'https://ssl' : 'http://www') + '.google-analytics.com/ga.js';\\n    (document.getElementsByTagName('head')[0] || document.getElementsByTagName('body')[0]).appendChild(ga);\\n  })();\\n\\n</script>\\n<div id=\"hp_banner\">\\n<div id=\"top_links\">\\n<div style=\"float: left\"><a href=\"/daily/chart/\">Daily Box Office (Sun.)</a> | <a href=\"/weekend/chart/\">Weekend Box Office (Dec. 9\\u201311)</a> | <a href=\"/movies/?id=disney1116.htm\">#1 Movie: 'Moana'</a> | <a href=\"http://www.imdb.com/showtimes/?ref_=mojo\">Showtimes</a></div>\\n<div style=\"float: right\">Updated 12/11/2016 9:23 A.M. Pacific Time</div>\\n<div style=\"clear:both; height: 0px\"></div>\\n</div>\\n</div>\\n<div id=\"header\">\\n<div id=\"leaderboard\"><script src=\"http://bs.serving-sys.com/Serving/adServer.bs?c=28&amp;cn=display&amp;pli=1073982656&amp;w=728&amp;h=90&amp;ord=1481561593&amp;z=0\"></script>\\n<noscript>\\n<a href=\"http://bs.serving-sys.com/Serving/adServer.bs?cn=brd&amp;pli=1073982656&amp;Page=&amp;Pos=668343950\" target=\"_blank\">\\n<img border=\"0\" height=\"90\" src=\"http://bs.serving-sys.com/Serving/adServer.bs?c=8&amp;cn=display&amp;pli=1073982656&amp;Page=&amp;Pos=668343950\" width=\"728\"/></a>\\n</noscript>\\n</div>\\n<div id=\"leaderboard\"><script type=\"text/javascript\">\\n    googletag.cmd.push(function() {\\n        googletag.defineSlot(\"/4215/imdb2.bom.movie\", [[728, 90]], \"ad-slot-1\").addService(googletag.pubads().setTargeting(\"p\", \"t\"));\\n        googletag.pubads().enableSingleRequest();\\n        googletag.enableServices();\\n    });\\n    googletag.cmd.push(function() { googletag.display(\"ad-slot-1\"); });\\n</script></div> <div id=\"hp_logo\"><a href=\"/\"><img alt=\"Box Office Mojo\" height=\"56\" src=\"/img/misc/bom_logo1.png\" width=\"245\"/></a></div>\\n<div style=\"clear:both; height: 0px\"></div>\\n</div>\\n</div>\\n<div id=\"main\">\\n<!-- COLUMN 1 of 4 -->\\n<div id=\"leftnav\">\\n<!-- google_ad_section_start(weight=ignore) -->\\n<!-- <table id=\"navleft\" cellspacing=\"0\" cellpadding=\"2\" border=\"0\"> -->\\n<ul id=\"leftnav\">\\n<li class=\"nl_section\">Search Site</li>\\n<li class=\"nl_link\" style=\"padding-left:0px\">\\n<form action=\"/search/q.php\" method=\"POST\" name=\"searchbox\">\\n<input name=\"q\" style=\"font-size: 9 pt; font-weight: bold; width: 90px;\" type=\"text\"/><br/>\\n<input type=\"submit\" value=\"Search...\"/></form>\\n</li>\\n<li class=\"nl_section\">Social</li>\\n<li class=\"nl_link\"><a href=\"http://facebook.com/boxofficemojo\" style=\"vertical-align:middle;\"><img alt=\"Facebook Logo\" border=\"0\" src=\"/images/FaceBook_16x16.png\"/>Facebook</a></li>\\n<li class=\"nl_link\"><a href=\"http://twitter.com/boxofficemojo\" style=\"vertical-align:middle;\"><img alt=\"Twitter Logo\" border=\"0\" src=\"/images/Twitter_16x16.png\"/>Twitter</a></li>\\n<li class=\"nl_section\">Features</li>\\n<li class=\"nl_link\"><a href=\"/news/\">News</a></li>\\n<li class=\"nl_link\"><a href=\"/schedule/\">Release Sched.</a></li>\\n<li class=\"nl_link\"><a href=\"http://www.imdb.com/showtimes?ref_=mojo\">Showtimes<br/><span style=\"margin-left:7px;color: #999999; font-size: 9px;\">at <img src=\"/images/mojo_imdb_sm.png\"/></span></a></li>\\n<li class=\"nl_section\">Box Office</li>\\n<li class=\"nl_link\"><a href=\"/daily/\">Daily</a></li>\\n<li class=\"nl_link\"><a href=\"/weekend/\">Weekend</a></li>\\n<li class=\"nl_link\"><a href=\"/weekly/\">Weekly</a></li>\\n<li class=\"nl_link\"><a href=\"/monthly/\">Monthly</a></li>\\n<li class=\"nl_link\"><a href=\"/quarterly/\">Quarterly</a></li>\\n<li class=\"nl_link\"><a href=\"/seasonal/\">Seasonal</a></li>\\n<li class=\"nl_link\"><a href=\"/yearly/\">Yearly</a></li>\\n<li class=\"nl_link\"><a href=\"/alltime/\">All Time</a></li>\\n<li class=\"nl_link\"><a href=\"/intl/\">International</a></li>\\n<li class=\"nl_section\">Indices</li>\\n<li class=\"nl_link\"><a href=\"/studio/\">Studios</a></li>\\n<li class=\"nl_link\"><a href=\"/people/\">People</a></li>\\n<li class=\"nl_link\"><a href=\"/genres/\">Genres</a></li>\\n<li class=\"nl_link\"><a href=\"/franchises/\">Franchises</a></li>\\n<li class=\"nl_link\"><a href=\"/showdowns/\">Showdowns</a></li>\\n<li class=\"nl_link\"><a href=\"/counts/\">Theater Counts</a></li>\\n</ul>\\n</div>\\n<div id=\"body\">\\n<table border=\"0\" cellspacing=\"0\" width=\"878px\">\\n<tr>\\n<td align=\"right\" style=\"whitespace:nowrap;\">\\n<table border=\"0\" cellpadding=\"0\" cellspacing=\"0\">\\n<tr>\\n<form action=\"/adjuster.php\" method=\"POST\" name=\"adjuster\">\\n<input name=\"returnURL\" type=\"hidden\" value=\"/movies/?id=jurassicpark.htm\"/>\\n<td valign=\"center\">\\n<font face=\"Verdana\" size=\"2\"><a href=\"/about/adjuster.htm\"><b>Adjuster:</b></a></font>\\n<select name=\"ticketyr\" size=\"1\" style=\"font-family: Verdana; font-size: 10pt\">\\n<option selected=\"\" value=\"0\">Actuals</option>\\n<option value=\"1\">Est. Tckts</option>\\n<script language=\"javascript\">\\r\\n  for(i=2016; i>=1933; i--) {\\r\\n  \\tdocument.write('<option value=\"' + i + '\"');\\r\\n\\tif(i=='0') document.write(' selected');\\r\\n\\tdocument.write('>' + i );\\r\\n\\tif(i=='0') document.write(', $' + '0.00');\\r\\n\\tdocument.write('</option>');\\r\\n  }\\r\\n</script>\\n<option value=\"1929\">1929</option>\\n<option value=\"1924\">1924</option>\\n<option value=\"1910\">1910</option>\\n</select><input name=\"Go\" style=\"font-size: 10pt; height: 22\" type=\"submit\" value=\"Go\"/>\\n</td></form></tr></table>\\n</td></tr>\\n<!--------------------------Site Body---------------------------------->\\n<tr>\\n<table border=\"0\" cellpadding=\"0\" cellspacing=\"0\" width=\"100%\">\\n<tr> <td valign=\"top\">\\n<table border=\"0\" cellpadding=\"0\" cellspacing=\"0\" style=\"padding-top: 5px;\" width=\"100%\"><tr><td align=\"center\" valign=\"top\">\\n<a href=\"/movies/?page=media&amp;id=jurassicpark.htm\"><img border=\"1\" src=\"https://images-na.ssl-images-amazon.com/images/M/MV5BMjM2MDgxMDg0Nl5BMl5BanBnXkFtZTgwNTM2OTM5NDE@._V1_UY222_CR0,0,150,222_AL.jpg\" style=\"border-color: 000000\"/></a> </td>\\n<td align=\"center\" valign=\"top\"><br/><font face=\"Verdana\" size=\"6\"><b>Jurassic Park</b></font><br/><br/>\\n<table border=\"0\" cellpadding=\"0\" cellspacing=\"0\"><tr><td>\\n<center><table bgcolor=\"#dcdcdc\" border=\"0\" cellpadding=\"4\" cellspacing=\"1\" width=\"95%\"><tr bgcolor=\"#ffffff\"><td align=\"center\" colspan=\"2\"><font size=\"4\">Domestic Total Gross: <b>$357,067,947</b></font><br/><font size=\"2\"><a href=\"?page=releases&amp;id=jurassicpark.htm\"><b>Domestic Lifetime Gross: $402,453,882</b></a></font></td></tr><tr bgcolor=\"#ffffff\"><td valign=\"top\">Distributor: <b><a href=\"/studio/chart/?studio=universal.htm\">Universal</a></b></td><td valign=\"top\">Release Date: <b><nobr><a href=\"/schedule/?view=bydate&amp;release=theatrical&amp;date=1993-06-11&amp;p=.htm\">June 11, 1993</a></nobr></b></td></tr><tr bgcolor=\"#ffffff\"><td valign=\"top\">Genre: <b>Sci-Fi Horror</b></td><td valign=\"top\">Runtime: <b>2 hrs. 7 min.</b></td></tr><tr bgcolor=\"#ffffff\"><td valign=\"top\">MPAA Rating: <b>PG-13</b></td><td valign=\"top\">Production Budget: <b>$63 million</b></td></tr></table> </center></td>\\n</tr></table></td>\\n<td align=\"right\"><script type=\"text/javascript\">\\n    googletag.cmd.push(function() {\\n        googletag.defineSlot(\"/4215/imdb2.bom.movie\", [[300, 250]], \"ad-slot-2\").addService(googletag.pubads().setTargeting(\"p\", \"rh\"));\\n        googletag.pubads().enableSingleRequest();\\n        googletag.enableServices();\\n    });\\n    googletag.cmd.push(function() { googletag.display(\"ad-slot-2\"); });\\n</script></td>\\n</tr>\\n</table>\\n<table border=\"0\" cellpadding=\"0\" cellspacing=\"0\" width=\"878px\">\\n<tr><td>\\n<ul class=\"nav_tabs\">\\n<li class=\"nav_tab_current\"><a href=\"/movies/?page=main&amp;id=jurassicpark.htm\">Summary</a></li>\\n<li><a href=\"/movies/?page=daily&amp;id=jurassicpark.htm\">Daily</a></li>\\n<li><a href=\"/movies/?page=weekend&amp;id=jurassicpark.htm\">Weekend</a></li>\\n<li><a href=\"/movies/?page=weekly&amp;id=jurassicpark.htm\">Weekly</a></li>\\n<li><a href=\"/movies/?page=releases&amp;id=jurassicpark.htm\">Releases</a></li>\\n<li><a href=\"/movies/?page=intl&amp;id=jurassicpark.htm\">Foreign</a></li>\\n<li><a href=\"/movies/?page=similar&amp;id=jurassicpark.htm\">Similar Movies</a></li>\\n</ul>\\n<br/>\\n</td></tr>\\n<tr><td>\\n<table border=\"0\" cellpadding=\"0\" cellspacing=\"0\" width=\"100%\">\\n<tr><td valign=\"top\" width=\"434px\">\\n<table border=\"0\" cellpadding=\"0\" cellspacing=\"0\" width=\"100%\"><tr>\\n<td valign=\"top\" width=\"50%\">\\n<div class=\"mp_box\">\\n<div class=\"mp_box_tab\">Total Lifetime Grosses</div>\\n<div class=\"mp_box_content\">\\n<table border=\"0\" cellpadding=\"0\" cellspacing=\"0\">\\n<tr>\\n<td width=\"40%\"><b>Domestic:</b></td>\\n<td align=\"right\" width=\"35%\">\\xa0<b>$402,453,882</b></td>\\n<td align=\"right\" width=\"25%\">\\xa0\\xa0\\xa0<b>39.1%</b></td>\\n</tr>\\n<tr>\\n<td width=\"40%\">+\\xa0<a href=\"/movies/?page=intl&amp;id=jurassicpark.htm\">Foreign:</a></td>\\n<td align=\"right\" width=\"35%\">\\xa0$626,700,000</td>\\n<td align=\"right\" width=\"25%\">\\xa0\\xa0\\xa060.9%</td>\\n</tr>\\n<tr>\\n<td colspan=\"3\" width=\"100%\"><hr/></td>\\n</tr>\\n<tr>\\n<td width=\"40%\">=\\xa0<b>Worldwide:</b></td>\\n<td align=\"right\" width=\"35%\">\\xa0<b>$1,029,153,882</b></td>\\n<td width=\"25%\">\\xa0</td>\\n</tr>\\n</table>\\n</div>\\n</div>\\n<div class=\"mp_box\">\\n<div class=\"mp_box_tab\">Domestic Summary</div>\\n<div class=\"mp_box_content\">\\n<table border=\"0\" cellpadding=\"0\" cellspacing=\"0\">\\n<tr>\\n<td align=\"center\"><a href=\"/weekend/chart/?yr=1993&amp;wknd=24&amp;p=.htm\">Opening\\xa0Weekend:</a></td><td>\\xa0$47,026,828</td></tr>\\n<tr>\\n<td align=\"center\" colspan=\"2\"><font size=\"2\">(#1 rank, 2,404 theaters, $19,561 average)</font></td></tr>\\n<tr>\\n<td align=\"right\">%\\xa0of\\xa0Total\\xa0Gross:</td><td>\\xa013.2%</td></tr>\\n<tr><td align=\"right\" colspan=\"2\"><font face=\"Helvetica, Arial, Sans-Serif\" size=\"1\"><a href=\"/movies/?page=weekend&amp;id=jurassicpark.htm\"><b>&gt; View All 54 Weekends</b></a></font></td></tr>\\n</table>\\n<table border=\"0\" cellpadding=\"0\" cellspacing=\"0\">\\n<tr>\\n<td>Widest\\xa0Release:</td>\\n<td>\\xa02,566 theaters</td>\\n</tr>\\n</table>\\n</div>\\n</div>\\n</td>\\n<td style=\"padding-left: 10px;\" valign=\"top\"><div class=\"mp_box\">\\n<div class=\"mp_box_tab\">The Players</div>\\n<div class=\"mp_box_content\">\\n<table>\\n<tr><td align=\"right\" valign=\"top\"><font size=\"2\"><a href=\"/people/?view=Director&amp;p=.htm\">Director:</a></font></td><td><font size=\"2\"><a href=\"/people/chart/?view=Director&amp;id=stevenspielberg.htm\">Steven Spielberg</a></font></td></tr><tr><td align=\"right\" valign=\"top\"><font size=\"2\"><a href=\"/people/?view=Writer&amp;p=.htm\">Writer:</a></font></td><td><font size=\"2\"><a href=\"/people/chart/?view=Writer&amp;id=davidkoepp.htm\">David Koepp</a></font></td></tr><tr><td align=\"right\" valign=\"top\"><font size=\"2\"><a href=\"/people/?view=Actor&amp;p=.htm\">Actors:</a></font></td><td><font size=\"2\">Sam Neill<br/><a href=\"/people/chart/?view=Actor&amp;id=jeffgoldblum.htm\">Jeff Goldblum</a><br/>Laura Dern<br/>Richard Attenborough<br/><a href=\"/people/chart/?view=Actor&amp;id=samuelljackson.htm\">Samuel L. Jackson*</a></font></td></tr><tr><td align=\"right\" valign=\"top\"><font size=\"2\"><a href=\"/people/?view=Producer&amp;p=.htm\">Producers:</a></font></td><td><font size=\"2\"><a href=\"/people/chart/?view=Producer&amp;id=kathleenkennedy.htm\">Kathleen Kennedy</a><br/><a href=\"/people/chart/?view=Producer&amp;id=geraldmolen.htm\">Gerald R. Molen</a><br/><a href=\"/people/chart/?view=Producer&amp;id=colinwilson.htm\">Colin Wilson*</a> <font size=\"2\">(associate)</font></font></td></tr><tr><td align=\"right\" valign=\"top\"><font size=\"2\"><a href=\"/people/?view=Composer&amp;p=.htm\">Composer:</a></font></td><td><font size=\"2\"><a href=\"/people/chart/?view=Composer&amp;id=johnwilliams.htm\">John Williams</a></font></td></tr><tr><td align=\"right\" colspan=\"2\"><i><small>* Denotes minor role</small></i></td></tr></table></div></div></td>\\n</tr></table>\\n<div class=\"mp_box\">\\n<div class=\"mp_box_tab\">1993 Academy Awards\\xae</div>\\n<div class=\"mp_box_content\"><table border=\"0\" cellpadding=\"5\" cellspacing=\"0\" width=\"100%\"><tr><td><a href=\"/oscar/movies/?id=jurassicpark.htm\"><b>Nominated for Three Oscars, Including Three Wins.</b><br/>View full award breakdown...</a></td></tr></table></div></div><div class=\"mp_box\">\\n<div class=\"mp_box_tab\">Genres</div>\\n<div class=\"mp_box_content\">\\n<table border=\"0\" cellpadding=\"5\" cellspacing=\"1\" style=\"border-collapse: collapse\" width=\"100%\">\\n<tr><th>Genre</th>\\n<th>Rank</th></tr>\\n<tr bgcolor=\"#ffffff\"><td><font size=\"2\"><a href=\"/genres/chart/?id=creaturefeature.htm\"><b>Creature Feature</b></a></font></td>\\n<td align=\"center\"><font size=\"2\"><b>2</b></font></td>\\n</tr>\\n<tr bgcolor=\"#f4f4ff\"><td><font size=\"2\"><a href=\"/genres/chart/?id=dinosaur.htm\"><b>Dinosaur</b></a></font></td>\\n<td align=\"center\"><font size=\"2\"><b>2</b></font></td>\\n</tr>\\n<tr bgcolor=\"#ffffff\"><td><font size=\"2\"><a href=\"/genres/chart/?id=scifiadventure.htm\"><b>Sci-Fi - Adventure</b></a></font></td>\\n<td align=\"center\"><font size=\"2\"><b>7</b></font></td>\\n</tr>\\n<tr bgcolor=\"#f4f4ff\"><td><font size=\"2\"><a href=\"/genres/chart/?id=scifibook.htm\"><b>Sci-Fi - Based on Book</b></a></font></td>\\n<td align=\"center\"><font size=\"2\"><b>3</b></font></td>\\n</tr>\\n</table>\\n</div></div>\\n<div class=\"mp_box\">\\n<div class=\"mp_box_tab\">Franchises</div>\\n<div class=\"mp_box_content\">\\n<table border=\"0\" cellpadding=\"5\" cellspacing=\"1\" style=\"border-collapse: collapse\" width=\"100%\">\\n<tr><th>Franchise</th>\\n<th>Rank</th></tr>\\n<tr bgcolor=\"#ffffff\"><td><font size=\"2\"><a href=\"/franchises/chart/?id=jurassicpark.htm\"><b>Series: Jurassic Park</b></a></font></td>\\n<td align=\"center\"><font size=\"2\"><b>2</b></font></td>\\n</tr>\\n<tr bgcolor=\"#f4f4ff\"><td><font size=\"2\"><a href=\"/showdowns/chart/?id=jurassicrumble.htm\"><b>Showdown: 'Jurassic' Rumble</b></a></font></td>\\n<td align=\"center\"><font size=\"2\"><b>2</b></font></td>\\n</tr>\\n</table></div></div><div class=\"mp_box\">\\n<div class=\"mp_box_tab\">Charts</div>\\n<div class=\"mp_box_content\">\\n<table border=\"0\" cellpadding=\"5\" cellspacing=\"1\" style=\"border-collapse: collapse\" width=\"100%\">\\n<tr><td bgcolor=\"\"><b>Chart</b></td>\\n<td align=\"center\"><b>Rank</b></td>\\n</tr>\\n<tr bgcolor=\"#ffffff\"><td><font size=\"2\"><a href=\"/alltime/domestic.htm\">All Time Domestic</a></font></td>\\n<td align=\"center\"><font size=\"2\">22</font></td>\\n</tr>\\n<tr bgcolor=\"#f4f4ff\"><td><font size=\"2\"><a href=\"/alltime/adjusted.htm\">All Time Adjusted</a></font></td>\\n<td align=\"center\"><font size=\"2\">17</font></td>\\n</tr>\\n<tr bgcolor=\"#ffffff\"><td><font size=\"2\"><a href=\"/alltime/world/\">All Time Worldwide</a></font></td>\\n<td align=\"center\"><font size=\"2\">21</font></td>\\n</tr>\\n<tr bgcolor=\"#f4f4ff\"><td><font size=\"2\"><a href=\"/yearly/chart/?yr=1993&amp;p=.htm\"><b>Yearly 1993</b></a></font></td>\\n<td align=\"center\"><font size=\"2\"><b>1</b></font></td>\\n</tr>\\n<tr bgcolor=\"#ffffff\"><td><font size=\"2\"><a href=\"/yearly/chart/?view2=releasedate&amp;view=opening&amp;yr=1993&amp;p=.htm\"><b>Yearly Opening Weekends 1993</b></a></font></td>\\n<td align=\"center\"><font size=\"2\"><b>1</b></font></td>\\n</tr>\\n<tr bgcolor=\"#f4f4ff\"><td><font size=\"2\"><a href=\"/yearly/chart/mpaarating.htm?rating=PG-13&amp;yr=1993&amp;p=.htm\"><b>Yearly PG-13 Rated 1993</b></a></font></td>\\n<td align=\"center\"><font size=\"2\"><b>1</b></font></td>\\n</tr>\\n<tr bgcolor=\"#ffffff\"><td><font size=\"2\"><a href=\"/yearly/chart/?view2=worldwide&amp;yr=1993&amp;p=.htm\"><b>Worldwide Yearly 1993</b></a></font></td>\\n<td align=\"center\"><font size=\"2\"><b>1</b></font></td>\\n</tr>\\n<tr bgcolor=\"#f4f4ff\"><td><font size=\"2\"><a href=\"/alltime/openingweeks.htm\">Opening Weeks</a></font></td>\\n<td align=\"center\"><font size=\"2\">159</font></td>\\n</tr>\\n<tr bgcolor=\"#ffffff\"><td><font size=\"2\"><a href=\"/alltime/weekends/postthanksgiving.htm?view=hold&amp;p=.htm\">Post-Thanksgiving Weekend - Best Holds</a></font></td>\\n<td align=\"center\"><font size=\"2\">62</font></td>\\n</tr>\\n<tr bgcolor=\"#f4f4ff\"><td><font size=\"2\"><a href=\"/alltime/days/?page=single&amp;p=.htm\">Single Day Gross</a></font></td>\\n<td align=\"center\"><font size=\"2\">739</font></td>\\n</tr>\\n<tr bgcolor=\"#ffffff\"><td><font size=\"2\"><a href=\"/alltime/days/nonopening.htm?page=Tue&amp;p=.htm\">Non-Opening Tuesday Gross</a></font></td>\\n<td align=\"center\"><font size=\"2\">89</font></td>\\n</tr>\\n<tr bgcolor=\"#f4f4ff\"><td><font size=\"2\"><a href=\"/alltime/days/f-th.htm?page=Mon&amp;p=.htm\">Single Day Monday Gross</a></font></td>\\n<td align=\"center\"><font size=\"2\">132</font></td>\\n</tr>\\n<tr bgcolor=\"#ffffff\"><td><font size=\"2\"><a href=\"/alltime/days/f-th.htm?page=Sat&amp;p=.htm\">Single Day Saturday Gross</a></font></td>\\n<td align=\"center\"><font size=\"2\">291</font></td>\\n</tr>\\n<tr bgcolor=\"#f4f4ff\"><td><font size=\"2\"><a href=\"/alltime/days/f-th.htm?page=Tue&amp;p=.htm\">Single Day Tuesday Gross</a></font></td>\\n<td align=\"center\"><font size=\"2\">97</font></td>\\n</tr>\\n<tr bgcolor=\"#ffffff\"><td><font size=\"2\"><a href=\"/alltime/days/nonholiday.htm\">Non-Holiday Monday Gross</a></font></td>\\n<td align=\"center\"><font size=\"2\">77</font></td>\\n</tr>\\n<tr bgcolor=\"#f4f4ff\"><td><font size=\"2\"><a href=\"/alltime/weekends/theateravg.htm?page=THTRWAVG&amp;p=.htm\">Theater Averages (Wide Releases) - All Time</a></font></td>\\n<td align=\"center\"><font size=\"2\">189</font></td>\\n</tr>\\n<tr bgcolor=\"#ffffff\"><td><font size=\"2\"><a href=\"/alltime/weekends/theateravg.htm?page=THTRWAVG&amp;p=.htm\">Theater Averages (Wide Releases) - All Time</a></font></td>\\n<td align=\"center\"><font size=\"2\">106</font></td>\\n</tr>\\n<tr bgcolor=\"#f4f4ff\"><td><font size=\"2\"><a href=\"/alltime/weekends/theateravg.htm?page=THTRAWOPN&amp;p=.htm\">Theater Averages - Wide Opening Weekends</a></font></td>\\n<td align=\"center\"><font size=\"2\">99</font></td>\\n</tr>\\n<tr bgcolor=\"#ffffff\"><td><font size=\"2\"><a href=\"/alltime/weekends/\">Opening Weekends</a></font></td>\\n<td align=\"center\"><font size=\"2\">222</font></td>\\n</tr>\\n<tr bgcolor=\"#f4f4ff\"><td><font size=\"2\"><a href=\"/alltime/weekends/month/?mo=06&amp;p=.htm\">Opening Weekends - June</a></font></td>\\n<td align=\"center\"><font size=\"2\">39</font></td>\\n</tr>\\n<tr bgcolor=\"#ffffff\"><td><font size=\"2\"><a href=\"/alltime/weekends/byseason.htm?season=Summer&amp;p=.htm\">Opening Weekends - Summer</a></font></td>\\n<td align=\"center\"><font size=\"2\">141</font></td>\\n</tr>\\n<tr bgcolor=\"#f4f4ff\"><td><font size=\"2\"><a href=\"/alltime/weekends/moreweekends.htm?page=11&amp;p=.htm\">Eleventh Weekends</a></font></td>\\n<td align=\"center\"><font size=\"2\">31</font></td>\\n</tr>\\n<tr bgcolor=\"#ffffff\"><td><font size=\"2\"><a href=\"/alltime/weekends/moreweekends.htm?page=9&amp;p=.htm\">Ninth Weekends</a></font></td>\\n<td align=\"center\"><font size=\"2\">33</font></td>\\n</tr>\\n<tr bgcolor=\"#f4f4ff\"><td><font size=\"2\"><a href=\"/alltime/weekends/moreweekends.htm?page=10&amp;p=.htm\">Tenth Weekends</a></font></td>\\n<td align=\"center\"><font size=\"2\">29</font></td>\\n</tr>\\n<tr bgcolor=\"#ffffff\"><td><font size=\"2\"><a href=\"/alltime/grossbydays.htm?days=3&amp;p=.htm\">Top 3-Day Grosses</a></font></td>\\n<td align=\"center\"><font size=\"2\">212</font></td>\\n</tr>\\n<tr bgcolor=\"#f4f4ff\"><td><font size=\"2\"><a href=\"/alltime/grossbydays.htm?days=7&amp;p=.htm\">Top 7-Day Grosses</a></font></td>\\n<td align=\"center\"><font size=\"2\">171</font></td>\\n</tr>\\n<tr bgcolor=\"#ffffff\"><td><font size=\"2\"><a href=\"/alltime/weekends/moreweekends.htm?page=13&amp;p=.htm\">Twelfth Weekends</a></font></td>\\n<td align=\"center\"><font size=\"2\">20</font></td>\\n</tr>\\n<tr bgcolor=\"#f4f4ff\"><td><font size=\"2\"><a href=\"/alltime/weekends/moreweekends.htm?page=12&amp;p=.htm\">Twelfth Weekends</a></font></td>\\n<td align=\"center\"><font size=\"2\">35</font></td>\\n</tr>\\n<tr bgcolor=\"#ffffff\"><td><font size=\"2\"><a href=\"/alltime/weekends/bestranked.htm?page=WKNDSAT1&amp;p=.htm\">Most Weekends at #1 (non-consecutive)</a></font></td>\\n<td align=\"center\"><font size=\"2\">76</font></td>\\n</tr>\\n<tr bgcolor=\"#f4f4ff\"><td><font size=\"2\"><a href=\"/alltime/weekends/bestranked.htm?page=WKNDSAT10&amp;p=.htm\">Most Weekends in Top 10 (non-consecutive)</a></font></td>\\n<td align=\"center\"><font size=\"2\">38</font></td>\\n</tr>\\n<tr bgcolor=\"#ffffff\"><td><font size=\"2\"><a href=\"/alltime/weekends/bestranked.htm?page=WKNDSAT5&amp;p=.htm\">Most Weekends in Top 5 (non-consecutive)</a></font></td>\\n<td align=\"center\"><font size=\"2\">29</font></td>\\n</tr>\\n<tr bgcolor=\"#f4f4ff\"><td><font size=\"2\"><a href=\"/alltime/weekends/bestranked.htm?page=WKNDSCAT1&amp;p=.htm\">Consecutive Weekends At #1</a></font></td>\\n<td align=\"center\"><font size=\"2\">58</font></td>\\n</tr>\\n<tr bgcolor=\"#ffffff\"><td><font size=\"2\"><a href=\"/alltime/weekends/bestranked.htm?page=WKNDSCAT10&amp;p=.htm\">Consecutive Weekends In Top 10</a></font></td>\\n<td align=\"center\"><font size=\"2\">31</font></td>\\n</tr>\\n<tr bgcolor=\"#f4f4ff\"><td><font size=\"2\"><a href=\"/alltime/weekends/bestranked.htm?page=WKNDSCAT5&amp;p=.htm\">Consecutive Weekends In Top 5</a></font></td>\\n<td align=\"center\"><font size=\"2\">41</font></td>\\n</tr>\\n<tr bgcolor=\"#ffffff\"><td><font size=\"2\"><a href=\"/alltime/weekends/july-4th.htm?page=JULY4ALL&amp;p=.htm\">Independence Day Weekends</a></font></td>\\n<td align=\"center\"><font size=\"2\">53</font></td>\\n</tr>\\n<tr bgcolor=\"#f4f4ff\"><td><font size=\"2\"><a href=\"/alltime/weekends/moreweekends.htm?page=2&amp;p=.htm\">Second Weekends</a></font></td>\\n<td align=\"center\"><font size=\"2\">80</font></td>\\n</tr>\\n<tr bgcolor=\"#ffffff\"><td><font size=\"2\"><a href=\"/alltime/weekends/moreweekends.htm?page=3&amp;p=.htm\">Third Weekends</a></font></td>\\n<td align=\"center\"><font size=\"2\">43</font></td>\\n</tr>\\n<tr bgcolor=\"#f4f4ff\"><td><font size=\"2\"><a href=\"/alltime/weekends/moreweekends.htm?page=4&amp;p=.htm\">Fourth Weekends</a></font></td>\\n<td align=\"center\"><font size=\"2\">34</font></td>\\n</tr>\\n<tr bgcolor=\"#ffffff\"><td><font size=\"2\"><a href=\"/alltime/weekends/moreweekends.htm?page=5&amp;p=.htm\">Fifth Weekends</a></font></td>\\n<td align=\"center\"><font size=\"2\">16</font></td>\\n</tr>\\n<tr bgcolor=\"#f4f4ff\"><td><font size=\"2\"><a href=\"/alltime/weekends/moreweekends.htm?page=6&amp;p=.htm\">Sixth Weekends</a></font></td>\\n<td align=\"center\"><font size=\"2\">22</font></td>\\n</tr>\\n<tr bgcolor=\"#ffffff\"><td><font size=\"2\"><a href=\"/alltime/weekends/moreweekends.htm?page=7&amp;p=.htm\">Seventh Weekends</a></font></td>\\n<td align=\"center\"><font size=\"2\">21</font></td>\\n</tr>\\n<tr bgcolor=\"#f4f4ff\"><td><font size=\"2\"><a href=\"/alltime/weekends/moreweekends.htm?page=8&amp;p=.htm\">Eighth Weekends</a></font></td>\\n<td align=\"center\"><font size=\"2\">26</font></td>\\n</tr>\\n<tr bgcolor=\"#ffffff\"><td><font size=\"2\"><a href=\"/alltime/weekends/smallestdrops.htm?page=SMALLDROP20&amp;p=.htm\">Smallest Drops, 2,000+ theaters (Very Wide)</a></font></td>\\n<td align=\"center\"><font size=\"2\">120</font></td>\\n</tr>\\n<tr bgcolor=\"#f4f4ff\"><td><font size=\"2\"><a href=\"/alltime/weekends/smallestdrops.htm?page=SMALLDROPWID&amp;p=.htm\">Smallest Drops, All Wide Releases</a></font></td>\\n<td align=\"center\"><font size=\"2\">528</font></td>\\n</tr>\\n<tr bgcolor=\"#ffffff\"><td><font size=\"2\"><a href=\"/alltime/domestic/mpaa.htm?page=PG-13&amp;p=.htm\">Rated PG-13</a></font></td>\\n<td align=\"center\"><font size=\"2\">15</font></td>\\n</tr>\\n<tr bgcolor=\"#f4f4ff\"><td><font size=\"2\"><a href=\"/alltime/weekends/mpaa.htm?page=PG-13&amp;p=.htm\">Rated PG-13, Opening Weekends</a></font></td>\\n<td align=\"center\"><font size=\"2\">141</font></td>\\n</tr>\\n<tr bgcolor=\"#ffffff\"><td><font size=\"2\"><a href=\"/alltime/fastest.htm?page=100&amp;p=.htm\">Fastest to $100 million</a></font></td>\\n<td align=\"center\"><font size=\"2\">139</font></td>\\n</tr>\\n<tr bgcolor=\"#f4f4ff\"><td><font size=\"2\"><a href=\"/alltime/fastest.htm?page=150&amp;p=.htm\">Fastest to $150 million</a></font></td>\\n<td align=\"center\"><font size=\"2\">106</font></td>\\n</tr>\\n<tr bgcolor=\"#ffffff\"><td><font size=\"2\"><a href=\"/alltime/fastest.htm?page=200&amp;p=.htm\">Fastest to $200 million</a></font></td>\\n<td align=\"center\"><font size=\"2\">87</font></td>\\n</tr>\\n<tr bgcolor=\"#f4f4ff\"><td><font size=\"2\"><a href=\"/alltime/fastest.htm?page=250&amp;p=.htm\">Fastest to $250 million</a></font></td>\\n<td align=\"center\"><font size=\"2\">68</font></td>\\n</tr>\\n<tr bgcolor=\"#ffffff\"><td><font size=\"2\"><a href=\"/alltime/fastest.htm?page=300&amp;p=.htm\">Fastest to $300 million</a></font></td>\\n<td align=\"center\"><font size=\"2\">51</font></td>\\n</tr>\\n<tr bgcolor=\"#f4f4ff\"><td><font size=\"2\"><a href=\"/alltime/fastest.htm?page=350&amp;p=.htm\">Fastest to $350 million</a></font></td>\\n<td align=\"center\"><font size=\"2\">34</font></td>\\n</tr>\\n<tr bgcolor=\"#ffffff\"><td><font size=\"2\"><a href=\"/alltime/slowest.htm?page=100&amp;p=.htm\">Slowest to $100 million</a></font></td>\\n<td align=\"center\"><font size=\"2\">484</font></td>\\n</tr>\\n<tr bgcolor=\"#f4f4ff\"><td><font size=\"2\"><a href=\"/alltime/slowest.htm?page=200&amp;p=.htm\">Slowest to $200 million</a></font></td>\\n<td align=\"center\"><font size=\"2\">81</font></td>\\n</tr>\\n<tr bgcolor=\"#ffffff\"><td><font size=\"2\"><a href=\"/grades/?page=usergrades&amp;p=.htm\">BOM Users' Grades</a></font></td>\\n<td align=\"center\"><font size=\"2\">43</font></td>\\n</tr>\\n<tr bgcolor=\"#f4f4ff\"><td><font size=\"2\"><b>BOM Users' Grades (1993 Releases)</b></font></td>\\n<td align=\"center\"><font size=\"2\"><b>2</b></font></td>\\n</tr>\\n<tr><td><b>Charts (Premier Pass Users Only)</b></td><td align=\"center\"><b>Rank</b></td></tr><tr bgcolor=\"#ffffff\"><td><font size=\"2\"><a href=\"/alltime/domestic.htm?page=1&amp;asof=1993-09-24&amp;p=.htm\">Highest All Time Rank (on September 24, 1993)</a></font></td>\\n<td align=\"center\"><font size=\"2\">2</font></td>\\n</tr>\\n<tr bgcolor=\"#f4f4ff\"><td><font size=\"2\"><a href=\"/yearly/chart/?view2=wide&amp;view=domestic&amp;yr=1993&amp;p=.htm\"><b>Yearly (Wide) 1993</b></a></font></td>\\n<td align=\"center\"><font size=\"2\"><b>1</b></font></td>\\n</tr>\\n<tr bgcolor=\"#ffffff\"><td><font size=\"2\"><a href=\"/yearly/chart/?view2=opening&amp;yr=1993&amp;p=.htm\"><b>Yearly Opening Weekends (Wide) 1993</b></a></font></td>\\n<td align=\"center\"><font size=\"2\"><b>1</b></font></td>\\n</tr>\\n<tr bgcolor=\"#f4f4ff\"><td><font size=\"2\"><a href=\"/alltime/openingweeks.htm?adjust_yr=2016&amp;p=.htm\">Opening Weeks Adjusted</a></font></td>\\n<td align=\"center\"><font size=\"2\">46</font></td>\\n</tr>\\n<tr bgcolor=\"#ffffff\"><td><font size=\"2\"><a href=\"/alltime/days/nonopening.htm?page=Fri&amp;adjust_yr=2016&amp;p=.htm\">Non-Opening Friday Gross Adjusted</a></font></td>\\n<td align=\"center\"><font size=\"2\">56</font></td>\\n</tr>\\n<tr bgcolor=\"#f4f4ff\"><td><font size=\"2\"><a href=\"/alltime/days/nonopening.htm?page=Thu&amp;adjust_yr=2016&amp;p=.htm\">Non-Opening Thursday Gross Adjusted</a></font></td>\\n<td align=\"center\"><font size=\"2\">43</font></td>\\n</tr>\\n<tr bgcolor=\"#ffffff\"><td><font size=\"2\"><a href=\"/alltime/days/nonopening.htm?page=Tue&amp;adjust_yr=2016&amp;p=.htm\">Non-Opening Tuesday Gross Adjusted</a></font></td>\\n<td align=\"center\"><font size=\"2\">17</font></td>\\n</tr>\\n<tr bgcolor=\"#f4f4ff\"><td><font size=\"2\"><a href=\"/alltime/days/nonopening.htm?page=Wed&amp;adjust_yr=2016&amp;p=.htm\">Non-Opening Wednesday Gross Adjusted</a></font></td>\\n<td align=\"center\"><font size=\"2\">30</font></td>\\n</tr>\\n<tr bgcolor=\"#ffffff\"><td><font size=\"2\"><a href=\"/alltime/days/f-th.htm?page=Fri&amp;adjust_yr=2016&amp;p=.htm\">Single Day Friday Gross Adjusted</a></font></td>\\n<td align=\"center\"><font size=\"2\">98</font></td>\\n</tr>\\n<tr bgcolor=\"#f4f4ff\"><td><font size=\"2\"><a href=\"/alltime/days/f-th.htm?page=Mon&amp;adjust_yr=2016&amp;p=.htm\">Single Day Monday Gross Adjusted</a></font></td>\\n<td align=\"center\"><font size=\"2\">45</font></td>\\n</tr>\\n<tr bgcolor=\"#ffffff\"><td><font size=\"2\"><a href=\"/alltime/days/f-th.htm?page=Sat&amp;adjust_yr=2016&amp;p=.htm\">Single Day Saturday Gross Adjusted</a></font></td>\\n<td align=\"center\"><font size=\"2\">69</font></td>\\n</tr>\\n<tr bgcolor=\"#f4f4ff\"><td><font size=\"2\"><a href=\"/alltime/days/f-th.htm?page=Sun&amp;adjust_yr=2016&amp;p=.htm\">Single Day Sunday Gross Adjusted</a></font></td>\\n<td align=\"center\"><font size=\"2\">62</font></td>\\n</tr>\\n<tr bgcolor=\"#ffffff\"><td><font size=\"2\"><a href=\"/alltime/days/f-th.htm?page=Thu&amp;adjust_yr=2016&amp;p=.htm\">Single Day Thursday Gross Adjusted</a></font></td>\\n<td align=\"center\"><font size=\"2\">52</font></td>\\n</tr>\\n<tr bgcolor=\"#f4f4ff\"><td><font size=\"2\"><a href=\"/alltime/days/f-th.htm?page=Tue&amp;adjust_yr=2016&amp;p=.htm\">Single Day Tuesday Gross Adjusted</a></font></td>\\n<td align=\"center\"><font size=\"2\">21</font></td>\\n</tr>\\n<tr bgcolor=\"#ffffff\"><td><font size=\"2\"><a href=\"/alltime/days/f-th.htm?page=Wed&amp;adjust_yr=2016&amp;p=.htm\">Single Day Wednesday Gross Adjusted</a></font></td>\\n<td align=\"center\"><font size=\"2\">67</font></td>\\n</tr>\\n<tr bgcolor=\"#f4f4ff\"><td><font size=\"2\"><a href=\"/alltime/wekeends/theateravg.htm?page=THTRWAVGADJ&amp;adjust_yr=2016&amp;p=.htm\">Theater Averages (Wide Releases) - All Time Adjusted</a></font></td>\\n<td align=\"center\"><font size=\"2\">18</font></td>\\n</tr>\\n<tr bgcolor=\"#ffffff\"><td><font size=\"2\"><a href=\"/alltime/wekeends/theateravg.htm?page=THTRWAVGADJ&amp;adjust_yr=2016&amp;p=.htm\">Theater Averages (Wide Releases) - All Time Adjusted</a></font></td>\\n<td align=\"center\"><font size=\"2\">185</font></td>\\n</tr>\\n<tr bgcolor=\"#f4f4ff\"><td><font size=\"2\"><a href=\"/alltime/wekeends/theateravg.htm?page=THTRWAVGADJ&amp;adjust_yr=2016&amp;p=.htm\">Theater Averages (Wide Releases) - All Time Adjusted</a></font></td>\\n<td align=\"center\"><font size=\"2\">57</font></td>\\n</tr>\\n<tr bgcolor=\"#ffffff\"><td><font size=\"2\"><a href=\"/alltime/weekends/theateravg.htm?page=THTRAWOPNADJ&amp;adjust_yr=2016&amp;p=.htm\">Theater Averages - Wide Opening Weekends Adjusted</a></font></td>\\n<td align=\"center\"><font size=\"2\">17</font></td>\\n</tr>\\n<tr bgcolor=\"#f4f4ff\"><td><font size=\"2\"><a href=\"/alltime/weekends/month/?mo=06&amp;adjust_yr=2016&amp;p=.htm\"><b>Opening Weekends Adjusted - June</b></a></font></td>\\n<td align=\"center\"><font size=\"2\"><b>9</b></font></td>\\n</tr>\\n<tr bgcolor=\"#ffffff\"><td><font size=\"2\"><a href=\"/alltime/weekends/?adjust_yr=2016&amp;p=.htm\">Opening Weekends Adjusted</a></font></td>\\n<td align=\"center\"><font size=\"2\">67</font></td>\\n</tr>\\n<tr bgcolor=\"#f4f4ff\"><td><font size=\"2\"><a href=\"/alltime/weekends/byseason.htm?season=Summer&amp;adjust_yr=2016&amp;p=.htm\">Opening Weekends Adjusted - Summer</a></font></td>\\n<td align=\"center\"><font size=\"2\">47</font></td>\\n</tr>\\n<tr bgcolor=\"#ffffff\"><td><font size=\"2\"><a href=\"/alltime/weekends/moreweeknds.htm?page=11&amp;adjust_yr=2016&amp;p=.htm\">Eleventh Weekends Adjusted</a></font></td>\\n<td align=\"center\"><font size=\"2\">25</font></td>\\n</tr>\\n<tr bgcolor=\"#f4f4ff\"><td><font size=\"2\"><a href=\"/alltime/weekends/moreweeknds.htm?page=9&amp;adjust_yr=2016&amp;p=.htm\">Ninth Weekends Adjusted</a></font></td>\\n<td align=\"center\"><font size=\"2\">23</font></td>\\n</tr>\\n<tr bgcolor=\"#ffffff\"><td><font size=\"2\"><a href=\"/alltime/weekends/moreweeknds.htm?page=10&amp;adjust_yr=2016&amp;p=.htm\">Tenth Weekends Adjusted</a></font></td>\\n<td align=\"center\"><font size=\"2\">24</font></td>\\n</tr>\\n<tr bgcolor=\"#f4f4ff\"><td><font size=\"2\"><a href=\"/alltime/weekends/moreweeknds.htm?page=12&amp;adjust_yr=2016&amp;p=.htm\">Twelfth Weekends Adjusted</a></font></td>\\n<td align=\"center\"><font size=\"2\">29</font></td>\\n</tr>\\n<tr bgcolor=\"#ffffff\"><td><font size=\"2\"><a href=\"/alltime/weekends/moreweeknds.htm?page=2&amp;adjust_yr=2016&amp;p=.htm\">Second Weekends Adjusted</a></font></td>\\n<td align=\"center\"><font size=\"2\">12</font></td>\\n</tr>\\n<tr bgcolor=\"#f4f4ff\"><td><font size=\"2\"><a href=\"/alltime/weekends/moreweeknds.htm?page=3&amp;adjust_yr=2016&amp;p=.htm\"><b>Third Weekends Adjusted</b></a></font></td>\\n<td align=\"center\"><font size=\"2\"><b>7</b></font></td>\\n</tr>\\n<tr bgcolor=\"#ffffff\"><td><font size=\"2\"><a href=\"/alltime/weekends/moreweeknds.htm?page=4&amp;adjust_yr=2016&amp;p=.htm\"><b>Fourth Weekends Adjusted</b></a></font></td>\\n<td align=\"center\"><font size=\"2\"><b>6</b></font></td>\\n</tr>\\n<tr bgcolor=\"#f4f4ff\"><td><font size=\"2\"><a href=\"/alltime/weekends/moreweeknds.htm?page=5&amp;adjust_yr=2016&amp;p=.htm\"><b>Fifth Weekends Adjusted</b></a></font></td>\\n<td align=\"center\"><font size=\"2\"><b>6</b></font></td>\\n</tr>\\n<tr bgcolor=\"#ffffff\"><td><font size=\"2\"><a href=\"/alltime/weekends/moreweeknds.htm?page=6&amp;adjust_yr=2016&amp;p=.htm\">Sixth Weekends Adjusted</a></font></td>\\n<td align=\"center\"><font size=\"2\">16</font></td>\\n</tr>\\n<tr bgcolor=\"#f4f4ff\"><td><font size=\"2\"><a href=\"/alltime/weekends/moreweeknds.htm?page=7&amp;adjust_yr=2016&amp;p=.htm\">Seventh Weekends Adjusted</a></font></td>\\n<td align=\"center\"><font size=\"2\">17</font></td>\\n</tr>\\n<tr bgcolor=\"#ffffff\"><td><font size=\"2\"><a href=\"/alltime/weekends/moreweeknds.htm?page=8&amp;adjust_yr=2016&amp;p=.htm\">Eighth Weekends Adjusted</a></font></td>\\n<td align=\"center\"><font size=\"2\">17</font></td>\\n</tr>\\n<tr bgcolor=\"#f4f4ff\"><td><font size=\"2\"><a href=\"/alltime/domestic/mpaa.htm?page=PG-13&amp;adjust_yr=2016&amp;p=.htm\"><b>Rated PG-13 Adjusted</b></a></font></td>\\n<td align=\"center\"><font size=\"2\"><b>4</b></font></td>\\n</tr>\\n<tr bgcolor=\"#ffffff\"><td><font size=\"2\"><a href=\"/alltime/weekends/mpaa.htm?page=PG-13&amp;adjust_yr==.htm\">Rated PG-13, Opening Weekends Adjusted</a></font></td>\\n<td align=\"center\"><font size=\"2\">50</font></td>\\n</tr>\\n</table></div></div>\\n</td>\\n<td width=\"10px\">\\xa0</td>\\n<td valign=\"top\" width=\"434px\">\\n<div class=\"mp_box\">\\n<div class=\"mp_box_tab\">Related Products</div>\\n<div class=\"mp_box_content\"><ul>\\n<li><a href=\"http://www.amazon.com/gp/product/B00B1EEKM8?ie=UTF8&amp;tag=boxofficemojo-20&amp;linkCode=as2&amp;camp=1789&amp;creative=9325&amp;creativeASIN=B00B1EEKM8\">Jurassic Park [Blu-ray]</a><img alt=\"\" border=\"0\" height=\"1\" src=\"http://www.assoc-amazon.com/e/ir?t=boxofficemojo-20&amp;l=as2&amp;o=1&amp;a=B00B1EEKM8\" style=\"border:none !important; margin:0px !important;\" width=\"1\"/></li>\\n<li><a href=\"http://www.amazon.com/gp/product/B00003CXAT?ie=UTF8&amp;tag=boxofficemojo-20&amp;linkCode=as2&amp;camp=1789&amp;creative=9325&amp;creativeASIN=B00003CXAT\">Jurassic Park</a><img alt=\"\" border=\"0\" height=\"1\" src=\"http://www.assoc-amazon.com/e/ir?t=boxofficemojo-20&amp;l=as2&amp;o=1&amp;a=B00003CXAT\" style=\"border:none !important; margin:0px !important;\" width=\"1\"/></li>\\n<li><a href=\"http://www.amazon.com/gp/product/B00005QCYC?ie=UTF8&amp;tag=boxofficemojo-20&amp;linkCode=as2&amp;camp=1789&amp;creative=9325&amp;creativeASIN=B00005QCYC\">Jurassic Park Trilogy</a><img alt=\"\" border=\"0\" height=\"1\" src=\"http://www.assoc-amazon.com/e/ir?t=boxofficemojo-20&amp;l=as2&amp;o=1&amp;a=B00005QCYC\" style=\"border:none !important; margin:0px !important;\" width=\"1\"/></li>\\n<li><a href=\"http://www.amazon.com/gp/product/B000002OOY?ie=UTF8&amp;tag=boxofficemojo-20&amp;linkCode=as2&amp;camp=1789&amp;creative=9325&amp;creativeASIN=B000002OOY\">Soundtrack</a><img alt=\"\" border=\"0\" height=\"1\" src=\"http://www.assoc-amazon.com/e/ir?t=boxofficemojo-20&amp;l=as2&amp;o=1&amp;a=B000002OOY\" style=\"border:none !important; margin:0px !important;\" width=\"1\"/></li>\\n</ul></div></div> <object classid=\"clsid:D27CDB6E-AE6D-11cf-96B8-444553540000\" codebase=\"http://fpdownload.macromedia.com/get/flashplayer/current/swflash.cab\" height=\"150px\" id=\"Player_82160f42-9620-4d0a-b79a-18b1abd853fb\" width=\"400px\"> <param name=\"movie\" value=\"http://ws.amazon.com/widgets/q?ServiceVersion=20070822&amp;MarketPlace=US&amp;ID=V20070822%2FUS%2Fboxofficemojo-20%2F8010%2F82160f42-9620-4d0a-b79a-18b1abd853fb&amp;Operation=GetDisplayTemplate\"></param><param name=\"quality\" value=\"high\"></param><param name=\"bgcolor\" value=\"#FFFFFF\"></param><param name=\"allowscriptaccess\" value=\"always\"></param><embed align=\"middle\" allowscriptaccess=\"always\" bgcolor=\"#ffffff\" height=\"150px\" id=\"Player_82160f42-9620-4d0a-b79a-18b1abd853fb\" name=\"Player_82160f42-9620-4d0a-b79a-18b1abd853fb\" quality=\"high\" src=\"http://ws.amazon.com/widgets/q?ServiceVersion=20070822&amp;MarketPlace=US&amp;ID=V20070822%2FUS%2Fboxofficemojo-20%2F8010%2F82160f42-9620-4d0a-b79a-18b1abd853fb&amp;Operation=GetDisplayTemplate\" type=\"application/x-shockwave-flash\" width=\"400px\"></embed></object> <noscript><a href=\"http://ws.amazon.com/widgets/q?ServiceVersion=20070822&amp;MarketPlace=US&amp;ID=V20070822%2FUS%2Fboxofficemojo-20%2F8010%2F82160f42-9620-4d0a-b79a-18b1abd853fb&amp;Operation=NoScript\">Amazon.com Widgets</a></noscript>\\n</td>\\n</tr>\\n</table>\\n<br/>\\n</td>\\n</tr>\\n</table>\\n</td></tr></table>\\n<div id=\"hp_footer\">\\n<div style=\"padding-bottom: 20px;\">\\n<div style=\"margin: 0px 121px; vertical-align: top;\">\\n<div id=\"footer_links\">\\n<ul class=\"footer_link_list\">\\n<li><strong>Latest Updates</strong></li>\\n<li><a href=\"/news/?ref=ft\">Movie News</a>\\n</li><li><a href=\"/daily/chart/?ref=ft\">Daily Chart</a></li>\\n<li><a href=\"/weekend/chart/?ref=ft\">Weekend Chart</a></li>\\n<li><a href=\"/alltime/?ref=ft\">All Time Charts</a></li>\\n<li><a href=\"/intl/?ref=ft\">International Charts</a></li>\\n</ul>\\n<!--\\n\\t\\t\\t\\t\\t<ul class=\"footer_link_list\">\\n\\t\\t\\t\\t\\t\\t<li><strong>Popular Movies</strong></li>\\n\\t\\t\\t\\t\\t\\t\\t\\t\\t\\t\\t</ul>\\n\\t\\t\\t\\t\\t-->\\n<ul class=\"footer_link_list\">\\n<li><strong>Indices</strong></li>\\n<li><a href=\"/people/?ref=ft\">People</a></li>\\n<li><a href=\"/genres/?ref=ft\">Genres</a></li>\\n<li><a href=\"/franchises/?ref=ft\">Franchises</a></li>\\n<li><a href=\"/showdowns/?ref=ft\">Showdowns</a></li>\\n</ul>\\n<ul class=\"footer_link_list\">\\n<li><strong>Other</strong></li>\\n<li><a href=\"/about/?ref=ft\">About This Site</a></li>\\n<li><a href=\"/about/advertise.htm?ref=ft\">Advertising</a></li>\\n</ul>\\n</div>\\n<div id=\"copyright\">\\n<a href=\"/?ref=ft\"><img alt=\"Box Office Mojo\" height=\"56\" src=\"/img/misc/bom_logo1.png\" width=\"245\"/></a><br/>\\n<p>An <a href=\"http://imdb.com/\"><img alt=\"IMDb\" height=\"16\" src=\"/img/misc/IMDbSm.png\" valign=\"middle\" width=\"34\"/></a> company<br/><br/></p>\\n<p>\\xa9 <a href=\"http://imdb.com/\">IMDb.com</a>, Inc. or its affiliates. All rights reserved. Box Office Mojo and IMDb are trademarks or registered trademarks of IMDb.com, Inc. or its affiliates. <a href=\"/about/termsofuse.htm\">Terms of Use</a> and <a href=\"/about/privacy.htm\">Privacy Policy</a> under which this service is provided to you.</p>\\n</div>\\n</div>\\n<div style=\"clear:both;\">\\n<div>\\n<script type=\"text/javascript\">\\n    googletag.cmd.push(function() {\\n        googletag.defineSlot(\"/4215/imdb2.bom.movie\", [[728, 90]], \"ad-slot-3\").addService(googletag.pubads().setTargeting(\"p\", \"b\"));\\n        googletag.pubads().enableSingleRequest();\\n        googletag.enableServices();\\n    });\\n    googletag.cmd.push(function() { googletag.display(\"ad-slot-3\"); });\\n</script></div>\\n</div>\\n</div>\\n</div>\\n<!-- Page generated in 1.07 seconds | . -->\\n<script>\\n  var _comscore = _comscore || [];\\n  _comscore.push({ c1: \"2\", c2: \"6034961\" });\\n  (function() {\\n    var s = document.createElement(\"script\"), el = document.getElementsByTagName(\"script\")[0]; s.async = true;\\n    s.src = (document.location.protocol == \"https:\" ? \"https://sb\" : \"http://b\") + \".scorecardresearch.com/beacon.js\";\\n  el.parentNode.insertBefore(s, el);\\n  })();\\n</script>\\n<noscript>\\n<img src=\"http://b.scorecardresearch.com/p?c1=2&amp;c2=6034961&amp;cv=2.0&amp;cj=1\"/>\\n</noscript>\\n</tr></table></div></div></div></body>\\n</html>\\n"
      ]
     },
     "execution_count": 20,
     "metadata": {},
     "output_type": "execute_result"
    }
   ],
   "source": [
    "chunky = BeautifulSoup(r.content, \"lxml\")\n",
    "chunky"
   ]
  },
  {
   "cell_type": "code",
   "execution_count": 70,
   "metadata": {
    "collapsed": false
   },
   "outputs": [
    {
     "data": {
      "text/plain": [
       "u'Jurassic Park'"
      ]
     },
     "execution_count": 70,
     "metadata": {},
     "output_type": "execute_result"
    }
   ],
   "source": [
    "this_title = chunky.find('title').text.split('(')[0].strip()\n",
    "this_title"
   ]
  },
  {
   "cell_type": "code",
   "execution_count": 75,
   "metadata": {
    "collapsed": false
   },
   "outputs": [
    {
     "data": {
      "text/plain": [
       "u'Universal'"
      ]
     },
     "execution_count": 75,
     "metadata": {},
     "output_type": "execute_result"
    }
   ],
   "source": [
    "item = chunky.find(text=re.compile(\"Distributor\"))\n",
    "item.findNextSibling().text\n",
    "#item.findNextSibling().find('a')['href'].split('=')[1].split('.')[0]"
   ]
  },
  {
   "cell_type": "code",
   "execution_count": 76,
   "metadata": {
    "collapsed": false
   },
   "outputs": [
    {
     "data": {
      "text/plain": [
       "u'PG-13'"
      ]
     },
     "execution_count": 76,
     "metadata": {},
     "output_type": "execute_result"
    }
   ],
   "source": [
    "item = chunky.find(text=re.compile(\"MPAA Rating\"))\n",
    "item.findNextSibling().text\n"
   ]
  },
  {
   "cell_type": "code",
   "execution_count": 79,
   "metadata": {
    "collapsed": false
   },
   "outputs": [
    {
     "data": {
      "text/plain": [
       "u'$357,067,947'"
      ]
     },
     "execution_count": 79,
     "metadata": {},
     "output_type": "execute_result"
    }
   ],
   "source": [
    "item = chunky.find(text=re.compile(\"Domestic\"))\n",
    "item.findNextSibling().text"
   ]
  },
  {
   "cell_type": "markdown",
   "metadata": {},
   "source": [
    "# Scraping a few webpages"
   ]
  },
  {
   "cell_type": "markdown",
   "metadata": {},
   "source": [
    "Let's say we want to get that same information for several movies at once. Here's a link to the top 100 movies from 1993. Use this table to generate a list of URLs from each movie. \n",
    "\n"
   ]
  },
  {
   "cell_type": "code",
   "execution_count": 80,
   "metadata": {
    "collapsed": true
   },
   "outputs": [],
   "source": [
    "top_100_url = 'http://www.boxofficemojo.com/yearly/chart/?yr=1993&p=.htm'"
   ]
  },
  {
   "cell_type": "code",
   "execution_count": null,
   "metadata": {
    "collapsed": true
   },
   "outputs": [],
   "source": []
  },
  {
   "cell_type": "markdown",
   "metadata": {},
   "source": [
    "### Reusing your code"
   ]
  },
  {
   "cell_type": "markdown",
   "metadata": {},
   "source": [
    "See if you can the code you wrote for Jurrasic Park into a function to grab Title, Gross, Distributor, and MPAA rating for each movie on the top 100.  "
   ]
  },
  {
   "cell_type": "code",
   "execution_count": null,
   "metadata": {
    "collapsed": true
   },
   "outputs": [],
   "source": []
  },
  {
   "cell_type": "markdown",
   "metadata": {},
   "source": [
    "# Bonus: Turn the data you collected into a dataframe. \n",
    "Plot the Domestic total gross by MPAA rating, then by Distributor"
   ]
  },
  {
   "cell_type": "code",
   "execution_count": null,
   "metadata": {
    "collapsed": true
   },
   "outputs": [],
   "source": []
  }
 ],
 "metadata": {
  "anaconda-cloud": {},
  "kernelspec": {
   "display_name": "Python [default]",
   "language": "python",
   "name": "python2"
  },
  "language_info": {
   "codemirror_mode": {
    "name": "ipython",
    "version": 2
   },
   "file_extension": ".py",
   "mimetype": "text/x-python",
   "name": "python",
   "nbconvert_exporter": "python",
   "pygments_lexer": "ipython2",
   "version": "2.7.12"
  }
 },
 "nbformat": 4,
 "nbformat_minor": 0
}
