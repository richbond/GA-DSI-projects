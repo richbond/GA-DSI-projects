{
 "cells": [
  {
   "cell_type": "markdown",
   "metadata": {},
   "source": [
    "## MAP Lab\n",
    "\n",
    "**Exercise**\n",
    "\n",
    "Let's compare the Ridge regression to the full baysian model from Project 4 (tide example)\n",
    "\n",
    "1. Plot the data points, the Baysian Regression Line and the Ridge Regression Line in one plot. Can you observe any difference? Discuss your result. \n",
    "2. The Ridge Regression makes prediction by taking the decision based upon the value of the Ridge Regression Line.\n",
    "For a fixed time t that uou can choose (for example t =5) calculate the integrate error rate (loss) between the Baysian Approach and the Ridge Regression. Discuss your pick of loss function."
   ]
  },
  {
   "cell_type": "code",
   "execution_count": null,
   "metadata": {
    "collapsed": true
   },
   "outputs": [],
   "source": []
  }
 ],
 "metadata": {
  "anaconda-cloud": {},
  "kernelspec": {
   "display_name": "Python [conda root]",
   "language": "python",
   "name": "conda-root-py"
  },
  "language_info": {
   "codemirror_mode": {
    "name": "ipython",
    "version": 2
   },
   "file_extension": ".py",
   "mimetype": "text/x-python",
   "name": "python",
   "nbconvert_exporter": "python",
   "pygments_lexer": "ipython2",
   "version": "2.7.12"
  }
 },
 "nbformat": 4,
 "nbformat_minor": 1
}
